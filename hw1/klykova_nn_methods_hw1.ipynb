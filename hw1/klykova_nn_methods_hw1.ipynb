{
 "cells": [
  {
   "cell_type": "markdown",
   "id": "d47e0c3e",
   "metadata": {},
   "source": [
    "# Д/З 1: классический ML в NLP\n",
    "### Выполнила Елизавета Клыкова, БКЛ181\n",
    "### Часть 1: предсказываем цену по описанию товара"
   ]
  },
  {
   "cell_type": "code",
   "execution_count": 1,
   "id": "acfc5623",
   "metadata": {},
   "outputs": [],
   "source": [
    "%load_ext pycodestyle_magic\n",
    "%pycodestyle_on"
   ]
  },
  {
   "cell_type": "code",
   "execution_count": 2,
   "id": "38715fab",
   "metadata": {},
   "outputs": [],
   "source": [
    "import langid\n",
    "import matplotlib.pyplot as plt\n",
    "import numpy as np\n",
    "import pandas as pd\n",
    "import random\n",
    "import re\n",
    "import regex\n",
    "import seaborn as sns\n",
    "import spacy_udpipe\n",
    "import warnings\n",
    "from collections import Counter, OrderedDict\n",
    "from emoji import UNICODE_EMOJI\n",
    "from langid.langid import LanguageIdentifier, model\n",
    "from nltk.corpus import stopwords\n",
    "from sklearn.exceptions import ConvergenceWarning\n",
    "from sklearn.feature_extraction.text import CountVectorizer, TfidfVectorizer\n",
    "from sklearn.linear_model import LinearRegression, Ridge, Lasso, ElasticNet\n",
    "from sklearn.linear_model import LogisticRegression\n",
    "from sklearn.metrics import *\n",
    "from sklearn.model_selection import RepeatedKFold\n",
    "from sklearn.model_selection import train_test_split, GridSearchCV\n",
    "from sklearn.naive_bayes import MultinomialNB\n",
    "from sklearn.svm import LinearSVC\n",
    "from sklearn.svm import LinearSVR\n",
    "from tqdm.auto import tqdm\n",
    "\n",
    "# spacy_udpipe.download('en')\n",
    "nlp = spacy_udpipe.load('en')\n",
    "\n",
    "random.seed(7)\n",
    "warnings.simplefilter('ignore', category=ConvergenceWarning)\n",
    "identifier = LanguageIdentifier.from_modelstring(model, norm_probs=True)"
   ]
  },
  {
   "cell_type": "code",
   "execution_count": 3,
   "id": "f69e02c1",
   "metadata": {},
   "outputs": [
    {
     "data": {
      "text/html": [
       "<div>\n",
       "<style scoped>\n",
       "    .dataframe tbody tr th:only-of-type {\n",
       "        vertical-align: middle;\n",
       "    }\n",
       "\n",
       "    .dataframe tbody tr th {\n",
       "        vertical-align: top;\n",
       "    }\n",
       "\n",
       "    .dataframe thead th {\n",
       "        text-align: right;\n",
       "    }\n",
       "</style>\n",
       "<table border=\"1\" class=\"dataframe\">\n",
       "  <thead>\n",
       "    <tr style=\"text-align: right;\">\n",
       "      <th></th>\n",
       "      <th>title</th>\n",
       "      <th>price</th>\n",
       "      <th>rating</th>\n",
       "      <th>total_reviews</th>\n",
       "      <th>product_description</th>\n",
       "      <th>reviews</th>\n",
       "      <th>reviews_rating</th>\n",
       "      <th>shoe_type</th>\n",
       "    </tr>\n",
       "  </thead>\n",
       "  <tbody>\n",
       "    <tr>\n",
       "      <th>0</th>\n",
       "      <td>CLYMB Outdoor Sports Running Shoes for Mens Boy</td>\n",
       "      <td>₹279.00</td>\n",
       "      <td>2.9 out of 5 stars</td>\n",
       "      <td>2389 ratings</td>\n",
       "      <td>Elevate your style with this classy pair of Ru...</td>\n",
       "      <td>Not happy with product|| It's not as expected....</td>\n",
       "      <td>1.0 out of 5 stars|| 1.0 out of 5 stars|| 3.0 ...</td>\n",
       "      <td>Men</td>\n",
       "    </tr>\n",
       "    <tr>\n",
       "      <th>1</th>\n",
       "      <td>Bourge Men's Loire-z126 Running Shoes</td>\n",
       "      <td>₹479.00</td>\n",
       "      <td>3.9 out of 5 stars</td>\n",
       "      <td>11520 ratings</td>\n",
       "      <td>The product will be an excellent pick for you....</td>\n",
       "      <td>Memory cushioning in these shoes is the best f...</td>\n",
       "      <td>5.0 out of 5 stars|| 1.0 out of 5 stars|| 5.0 ...</td>\n",
       "      <td>Men</td>\n",
       "    </tr>\n",
       "    <tr>\n",
       "      <th>2</th>\n",
       "      <td>T-Rock Men's Sneaker</td>\n",
       "      <td>₹430.00</td>\n",
       "      <td>3.3 out of 5 stars</td>\n",
       "      <td>1251 ratings</td>\n",
       "      <td>Flaunt with these stylish and unique red casua...</td>\n",
       "      <td>Worth to its amount|| Go for it|| Perfect|| 5 ...</td>\n",
       "      <td>5.0 out of 5 stars|| 5.0 out of 5 stars|| 5.0 ...</td>\n",
       "      <td>Men</td>\n",
       "    </tr>\n",
       "    <tr>\n",
       "      <th>3</th>\n",
       "      <td>Robbie jones Sneakers Casual Canvas Fabric Col...</td>\n",
       "      <td>₹499.00</td>\n",
       "      <td>4.2 out of 5 stars</td>\n",
       "      <td>3 ratings</td>\n",
       "      <td>Robbie Jones Shoes Are Designed To Keeping In ...</td>\n",
       "      <td>Sup quality|| Good but not expected|| Awesome 👌.!</td>\n",
       "      <td>5.0 out of 5 stars|| 3.0 out of 5 stars|| 5.0 ...</td>\n",
       "      <td>Men</td>\n",
       "    </tr>\n",
       "    <tr>\n",
       "      <th>4</th>\n",
       "      <td>Sparx Men's Sd0323g Sneakers</td>\n",
       "      <td>₹499.00</td>\n",
       "      <td>4.2 out of 5 stars</td>\n",
       "      <td>20110 ratings</td>\n",
       "      <td>Sparx is a spectacular range of footwear from ...</td>\n",
       "      <td>Best|| Satisfied!|| Affordable beauty 😘😘😘😘 the...</td>\n",
       "      <td>5.0 out of 5 stars|| 5.0 out of 5 stars|| 5.0 ...</td>\n",
       "      <td>Men</td>\n",
       "    </tr>\n",
       "    <tr>\n",
       "      <th>...</th>\n",
       "      <td>...</td>\n",
       "      <td>...</td>\n",
       "      <td>...</td>\n",
       "      <td>...</td>\n",
       "      <td>...</td>\n",
       "      <td>...</td>\n",
       "      <td>...</td>\n",
       "      <td>...</td>\n",
       "    </tr>\n",
       "    <tr>\n",
       "      <th>1225</th>\n",
       "      <td>Nike Men's React Vision Running Shoes</td>\n",
       "      <td>₹7256.00</td>\n",
       "      <td>4.4 out of 5 stars</td>\n",
       "      <td>200 ratings</td>\n",
       "      <td>The Nike react vision is a STORY of surreal co...</td>\n",
       "      <td>Must buy|| not have a great fiting but great q...</td>\n",
       "      <td>5.0 out of 5 stars|| 3.0 out of 5 stars|| 5.0 ...</td>\n",
       "      <td>Women</td>\n",
       "    </tr>\n",
       "    <tr>\n",
       "      <th>1226</th>\n",
       "      <td>Puma Men's B.O.G Limitless Hi Evoknit Sneakers</td>\n",
       "      <td>₹5822.00</td>\n",
       "      <td>4.3 out of 5 stars</td>\n",
       "      <td>25 ratings</td>\n",
       "      <td>The B.O.G limitless is Puma's key style for th...</td>\n",
       "      <td>Worth buying !|| Classy Bold and Stylish !!|| ...</td>\n",
       "      <td>4.0 out of 5 stars|| 5.0 out of 5 stars|| 3.0 ...</td>\n",
       "      <td>Women</td>\n",
       "    </tr>\n",
       "    <tr>\n",
       "      <th>1227</th>\n",
       "      <td>new balance Women's FuelCell Echolucent Runnin...</td>\n",
       "      <td>₹5362.00</td>\n",
       "      <td>4.5 out of 5 stars</td>\n",
       "      <td>817 ratings</td>\n",
       "      <td>Lead the pack in New Balance’s Echolucent snea...</td>\n",
       "      <td>size variation in product recd n size chart|| ...</td>\n",
       "      <td>5.0 out of 5 stars|| 5.0 out of 5 stars|| 5.0 ...</td>\n",
       "      <td>Women</td>\n",
       "    </tr>\n",
       "    <tr>\n",
       "      <th>1228</th>\n",
       "      <td>Nike Women's WMNS Air Zoom Pegasus 37 Running ...</td>\n",
       "      <td>₹7480.00</td>\n",
       "      <td>4.5 out of 5 stars</td>\n",
       "      <td>67 ratings</td>\n",
       "      <td>Nike మహిళల రన్నింగ్ షూ ఫీల్స్ మరియు రూపం మృదువ...</td>\n",
       "      <td>Verified Purchase|| Verified Purchase|| Verifi...</td>\n",
       "      <td>5.0 out of 5 stars|| 5.0 out of 5 stars|| 4.0 ...</td>\n",
       "      <td>Women</td>\n",
       "    </tr>\n",
       "    <tr>\n",
       "      <th>1229</th>\n",
       "      <td>ASICS Women Gt-2000 7 Lite-Show Running Shoes</td>\n",
       "      <td>₹5719.00</td>\n",
       "      <td>4.1 out of 5 stars</td>\n",
       "      <td>210 ratings</td>\n",
       "      <td>The GT-2000 7 achieves a reassuringly firm rid...</td>\n",
       "      <td>Great shoe|| excellent quality|| Old manufactu...</td>\n",
       "      <td>5.0 out of 5 stars|| 5.0 out of 5 stars|| 3.0 ...</td>\n",
       "      <td>Women</td>\n",
       "    </tr>\n",
       "  </tbody>\n",
       "</table>\n",
       "<p>1230 rows × 8 columns</p>\n",
       "</div>"
      ],
      "text/plain": [
       "                                                  title     price  \\\n",
       "0       CLYMB Outdoor Sports Running Shoes for Mens Boy   ₹279.00   \n",
       "1                 Bourge Men's Loire-z126 Running Shoes   ₹479.00   \n",
       "2                                  T-Rock Men's Sneaker   ₹430.00   \n",
       "3     Robbie jones Sneakers Casual Canvas Fabric Col...   ₹499.00   \n",
       "4                          Sparx Men's Sd0323g Sneakers   ₹499.00   \n",
       "...                                                 ...       ...   \n",
       "1225              Nike Men's React Vision Running Shoes  ₹7256.00   \n",
       "1226     Puma Men's B.O.G Limitless Hi Evoknit Sneakers  ₹5822.00   \n",
       "1227  new balance Women's FuelCell Echolucent Runnin...  ₹5362.00   \n",
       "1228  Nike Women's WMNS Air Zoom Pegasus 37 Running ...  ₹7480.00   \n",
       "1229      ASICS Women Gt-2000 7 Lite-Show Running Shoes  ₹5719.00   \n",
       "\n",
       "                  rating  total_reviews  \\\n",
       "0     2.9 out of 5 stars   2389 ratings   \n",
       "1     3.9 out of 5 stars  11520 ratings   \n",
       "2     3.3 out of 5 stars   1251 ratings   \n",
       "3     4.2 out of 5 stars      3 ratings   \n",
       "4     4.2 out of 5 stars  20110 ratings   \n",
       "...                  ...            ...   \n",
       "1225  4.4 out of 5 stars    200 ratings   \n",
       "1226  4.3 out of 5 stars     25 ratings   \n",
       "1227  4.5 out of 5 stars    817 ratings   \n",
       "1228  4.5 out of 5 stars     67 ratings   \n",
       "1229  4.1 out of 5 stars    210 ratings   \n",
       "\n",
       "                                    product_description  \\\n",
       "0     Elevate your style with this classy pair of Ru...   \n",
       "1     The product will be an excellent pick for you....   \n",
       "2     Flaunt with these stylish and unique red casua...   \n",
       "3     Robbie Jones Shoes Are Designed To Keeping In ...   \n",
       "4     Sparx is a spectacular range of footwear from ...   \n",
       "...                                                 ...   \n",
       "1225  The Nike react vision is a STORY of surreal co...   \n",
       "1226  The B.O.G limitless is Puma's key style for th...   \n",
       "1227  Lead the pack in New Balance’s Echolucent snea...   \n",
       "1228  Nike మహిళల రన్నింగ్ షూ ఫీల్స్ మరియు రూపం మృదువ...   \n",
       "1229  The GT-2000 7 achieves a reassuringly firm rid...   \n",
       "\n",
       "                                                reviews  \\\n",
       "0     Not happy with product|| It's not as expected....   \n",
       "1     Memory cushioning in these shoes is the best f...   \n",
       "2     Worth to its amount|| Go for it|| Perfect|| 5 ...   \n",
       "3     Sup quality|| Good but not expected|| Awesome 👌.!   \n",
       "4     Best|| Satisfied!|| Affordable beauty 😘😘😘😘 the...   \n",
       "...                                                 ...   \n",
       "1225  Must buy|| not have a great fiting but great q...   \n",
       "1226  Worth buying !|| Classy Bold and Stylish !!|| ...   \n",
       "1227  size variation in product recd n size chart|| ...   \n",
       "1228  Verified Purchase|| Verified Purchase|| Verifi...   \n",
       "1229  Great shoe|| excellent quality|| Old manufactu...   \n",
       "\n",
       "                                         reviews_rating shoe_type  \n",
       "0     1.0 out of 5 stars|| 1.0 out of 5 stars|| 3.0 ...       Men  \n",
       "1     5.0 out of 5 stars|| 1.0 out of 5 stars|| 5.0 ...       Men  \n",
       "2     5.0 out of 5 stars|| 5.0 out of 5 stars|| 5.0 ...       Men  \n",
       "3     5.0 out of 5 stars|| 3.0 out of 5 stars|| 5.0 ...       Men  \n",
       "4     5.0 out of 5 stars|| 5.0 out of 5 stars|| 5.0 ...       Men  \n",
       "...                                                 ...       ...  \n",
       "1225  5.0 out of 5 stars|| 3.0 out of 5 stars|| 5.0 ...     Women  \n",
       "1226  4.0 out of 5 stars|| 5.0 out of 5 stars|| 3.0 ...     Women  \n",
       "1227  5.0 out of 5 stars|| 5.0 out of 5 stars|| 5.0 ...     Women  \n",
       "1228  5.0 out of 5 stars|| 5.0 out of 5 stars|| 4.0 ...     Women  \n",
       "1229  5.0 out of 5 stars|| 5.0 out of 5 stars|| 3.0 ...     Women  \n",
       "\n",
       "[1230 rows x 8 columns]"
      ]
     },
     "execution_count": 3,
     "metadata": {},
     "output_type": "execute_result"
    }
   ],
   "source": [
    "df = pd.read_csv('Shoes_Data.csv')\n",
    "df.rename(columns={'Shoe Type': 'shoe_type'}, inplace=True)\n",
    "df"
   ]
  },
  {
   "cell_type": "markdown",
   "id": "e1920d93",
   "metadata": {},
   "source": [
    "#### 0. Подготовка данных (предварительная)\n",
    "*(здесь куски анализа перемежаются с кусками подготовки, но есть еще нормальный раздел с анализом и нормальный раздел с подготовкой)*\n",
    "\n",
    "Посмотрим, есть ли повторяющиеся строки и сколько их."
   ]
  },
  {
   "cell_type": "code",
   "execution_count": 4,
   "id": "b3e7448d",
   "metadata": {},
   "outputs": [
    {
     "data": {
      "text/plain": [
       "215"
      ]
     },
     "execution_count": 4,
     "metadata": {},
     "output_type": "execute_result"
    }
   ],
   "source": [
    "len(df[df.duplicated()])"
   ]
  },
  {
   "cell_type": "markdown",
   "id": "812cac3f",
   "metadata": {},
   "source": [
    "Дублируется аж 215 рядов из 1230. Удалим повторы."
   ]
  },
  {
   "cell_type": "code",
   "execution_count": 5,
   "id": "28ece22d",
   "metadata": {},
   "outputs": [],
   "source": [
    "df.drop_duplicates(inplace=True)\n",
    "df.reset_index(drop=True, inplace=True)"
   ]
  },
  {
   "cell_type": "markdown",
   "id": "12c6e801",
   "metadata": {},
   "source": [
    "Теперь приведем числовые данные в числовой формат. Пока что везде строки:"
   ]
  },
  {
   "cell_type": "code",
   "execution_count": 6,
   "id": "69f8f9cc",
   "metadata": {},
   "outputs": [
    {
     "data": {
      "text/plain": [
       "title                  object\n",
       "price                  object\n",
       "rating                 object\n",
       "total_reviews          object\n",
       "product_description    object\n",
       "reviews                object\n",
       "reviews_rating         object\n",
       "shoe_type              object\n",
       "dtype: object"
      ]
     },
     "execution_count": 6,
     "metadata": {},
     "output_type": "execute_result"
    }
   ],
   "source": [
    "df.dtypes"
   ]
  },
  {
   "cell_type": "markdown",
   "id": "84e2ce4b",
   "metadata": {},
   "source": [
    "В первую очередь проверим, в каких валютах указаны цены (это важно также потому, что при несовпадении валют нужна нормализация -- конвертация всех валют в какую-либо одну)."
   ]
  },
  {
   "cell_type": "code",
   "execution_count": 7,
   "id": "87de11df",
   "metadata": {},
   "outputs": [
    {
     "data": {
      "text/plain": [
       "{'₹'}"
      ]
     },
     "execution_count": 7,
     "metadata": {},
     "output_type": "execute_result"
    }
   ],
   "source": [
    "currencies = set([p[0] for p in df['price'].unique()])\n",
    "currencies"
   ]
  },
  {
   "cell_type": "markdown",
   "id": "3b954b4a",
   "metadata": {},
   "source": [
    "Отлично, все цены в одной валюте (индийской рупии), значит, можно обрезать символ '₹' и привести эти данные в единый числовой формат."
   ]
  },
  {
   "cell_type": "code",
   "execution_count": 8,
   "id": "2d6da5e2",
   "metadata": {},
   "outputs": [],
   "source": [
    "prices = [float(p[1:-1]) for p in df['price'].tolist()]\n",
    "df['price'] = prices"
   ]
  },
  {
   "cell_type": "markdown",
   "id": "5c3f2b25",
   "metadata": {},
   "source": [
    "То же сделаем для колонок rating и total_reviews, где присутствует лишняя информация ('out of 5 stars' и 'ratings')."
   ]
  },
  {
   "cell_type": "code",
   "execution_count": 9,
   "id": "2efcbc79",
   "metadata": {},
   "outputs": [],
   "source": [
    "ratings = [float(r.split()[0]) for r in df['rating'].tolist()]\n",
    "df['rating'] = ratings\n",
    "\n",
    "num_reviews = [int(n.split()[0]) for n in df['total_reviews']]\n",
    "df['total_reviews'] = num_reviews"
   ]
  },
  {
   "cell_type": "markdown",
   "id": "6d0a4b61",
   "metadata": {},
   "source": [
    "#### 1. Анализ данных\n",
    "Начнем с цены: проверим, сколько уникальных значений в колонке."
   ]
  },
  {
   "cell_type": "code",
   "execution_count": 10,
   "id": "219db218",
   "metadata": {},
   "outputs": [
    {
     "name": "stdout",
     "output_type": "stream",
     "text": [
      "Уникальных значений в колонке \"price\": 627\n"
     ]
    }
   ],
   "source": [
    "print('Уникальных значений в колонке \"price\":', len(df['price'].unique()))"
   ]
  },
  {
   "cell_type": "markdown",
   "id": "4dd1e2b5",
   "metadata": {},
   "source": [
    "Вполне ожидаемо, среди 1230 значений 627 уникальных. Такую задачу лучше решать с помощью регресии.\n",
    "\n",
    "Теперь визуализируем диапазон цен в нашем датасете."
   ]
  },
  {
   "cell_type": "code",
   "execution_count": 11,
   "id": "e3ea9a37",
   "metadata": {},
   "outputs": [
    {
     "data": {
      "text/plain": [
       "Text(0, 0.5, 'price (INR)')"
      ]
     },
     "execution_count": 11,
     "metadata": {},
     "output_type": "execute_result"
    },
    {
     "data": {
      "image/png": "[encoded data removed]",
      "text/plain": [
       "<Figure size 432x432 with 1 Axes>"
      ]
     },
     "metadata": {
      "needs_background": "light"
     },
     "output_type": "display_data"
    }
   ],
   "source": [
    "plt.figure(figsize=(6, 6))\n",
    "sns.boxplot(y='price', data=df, showmeans=True)\n",
    "plt.title('Price of shoes')\n",
    "plt.ylabel('price (INR)')"
   ]
  },
  {
   "cell_type": "markdown",
   "id": "de1310ea",
   "metadata": {},
   "source": [
    "Среднее значение составляет около 2000 рупий, при этом имеется ряд выбросов -- моделей, цена на которые превышает 6000 рупий. Интересно посмотреть и на взаимосвязь цены обуви и того, для кого она предназначена (женщин или мужчин)."
   ]
  },
  {
   "cell_type": "code",
   "execution_count": 12,
   "id": "460c4f7d",
   "metadata": {},
   "outputs": [
    {
     "data": {
      "text/plain": [
       "Text(0.5, 0, 'shoe type')"
      ]
     },
     "execution_count": 12,
     "metadata": {},
     "output_type": "execute_result"
    },
    {
     "data": {
      "image/png": "[encoded data removed]",
      "text/plain": [
       "<Figure size 576x432 with 1 Axes>"
      ]
     },
     "metadata": {
      "needs_background": "light"
     },
     "output_type": "display_data"
    }
   ],
   "source": [
    "plt.figure(figsize=(8, 6))\n",
    "sns.boxplot(x='shoe_type', y='price', data=df, showmeans=True)\n",
    "plt.title('Price of men\\'s and women\\'s shoes')\n",
    "plt.ylabel('price (INR)')\n",
    "plt.xlabel('shoe type')"
   ]
  },
  {
   "cell_type": "markdown",
   "id": "9a9fd8af",
   "metadata": {},
   "source": [
    "Видно, что цены на женскую обувь варьируются больше, чем на мужскую, однако медианные значения достаточно близки. Выбросы наблюдаются в основном в категории мужской обуви. Интересно, что женская обувь в среднем дороже мужской (pink tax вошел в чат). Вывод -- пол потенциального покупателя имеет смысл учитывать при обучении.\n",
    "\n",
    "Еще хочется посмотреть, есть ли взаимосвязь цены с разными параметрами описания, например, длиной (пока в токенах). Добавим колонку \"desc_length\"."
   ]
  },
  {
   "cell_type": "code",
   "execution_count": 13,
   "id": "ef6ff371",
   "metadata": {},
   "outputs": [],
   "source": [
    "descriptions = df['product_description'].tolist()\n",
    "\n",
    "desc_lengths = []\n",
    "for desc in descriptions:\n",
    "    desc_lengths.append(len(desc.split()))\n",
    "\n",
    "df['desc_length'] = desc_lengths"
   ]
  },
  {
   "cell_type": "markdown",
   "id": "8cc75de8",
   "metadata": {},
   "source": [
    "Посмотрим на распределение длин описаний:"
   ]
  },
  {
   "cell_type": "code",
   "execution_count": 14,
   "id": "216f12f4",
   "metadata": {},
   "outputs": [
    {
     "data": {
      "text/plain": [
       "Text(0, 0.5, 'number of tokens')"
      ]
     },
     "execution_count": 14,
     "metadata": {},
     "output_type": "execute_result"
    },
    {
     "data": {
      "image/png": "[encoded data removed]",
      "text/plain": [
       "<Figure size 432x432 with 1 Axes>"
      ]
     },
     "metadata": {
      "needs_background": "light"
     },
     "output_type": "display_data"
    }
   ],
   "source": [
    "plt.figure(figsize=(6, 6))\n",
    "sns.boxplot(y='desc_length', data=df, showmeans=True)\n",
    "plt.title('Product description length')\n",
    "plt.ylabel('number of tokens')"
   ]
  },
  {
   "cell_type": "markdown",
   "id": "14f65703",
   "metadata": {},
   "source": [
    "Красивое)) Попробуем убрать выбросы."
   ]
  },
  {
   "cell_type": "code",
   "execution_count": 15,
   "id": "8507ccfe",
   "metadata": {},
   "outputs": [
    {
     "data": {
      "text/plain": [
       "Text(0, 0.5, 'number of tokens')"
      ]
     },
     "execution_count": 15,
     "metadata": {},
     "output_type": "execute_result"
    },
    {
     "data": {
      "image/png": "[encoded data removed]",
      "text/plain": [
       "<Figure size 432x432 with 1 Axes>"
      ]
     },
     "metadata": {
      "needs_background": "light"
     },
     "output_type": "display_data"
    }
   ],
   "source": [
    "plt.figure(figsize=(6, 6))\n",
    "sns.boxplot(y='desc_length', data=df, showmeans=True, showfliers=False)\n",
    "plt.title('Product description length')\n",
    "plt.ylabel('number of tokens')"
   ]
  },
  {
   "cell_type": "markdown",
   "id": "119ed547",
   "metadata": {},
   "source": [
    "Уже лучше! Теперь посмотрим, есть ли зависимость между длиной описания и ценой пары обуви."
   ]
  },
  {
   "cell_type": "code",
   "execution_count": 16,
   "id": "5196284d",
   "metadata": {},
   "outputs": [
    {
     "data": {
      "text/plain": [
       "Text(0, 0.5, 'price (INR)')"
      ]
     },
     "execution_count": 16,
     "metadata": {},
     "output_type": "execute_result"
    },
    {
     "data": {
      "image/png": "[encoded data removed]",
      "text/plain": [
       "<Figure size 576x432 with 1 Axes>"
      ]
     },
     "metadata": {
      "needs_background": "light"
     },
     "output_type": "display_data"
    }
   ],
   "source": [
    "df.plot(kind='scatter', x='desc_length', y='price', figsize=(8, 6))\n",
    "# ограничения по осям такие, чтобы обрезать не все, а самые редкие выбросы\n",
    "plt.xlim(0, 300)\n",
    "plt.ylim(0, 6500)\n",
    "plt.title('Correlation between price and description length')\n",
    "plt.xlabel('number of tokens')\n",
    "plt.ylabel('price (INR)')"
   ]
  },
  {
   "cell_type": "markdown",
   "id": "88647070",
   "metadata": {},
   "source": [
    "Не похоже, что есть прямая зависимость. Это, в общем-то, было ожидаемо (хотя в идеальном мире можно представить ситуацию, когда более дорогие бренды пишут более подробные описания товаров ~~маркетологи же должны как-то отрабатывать своб зарплату~~, а более дешевые не прилагают столько усилий; или наоборот, дорогие бренды ограничиваются парой слов, считая, что не нуждаются в представлении, а более дешевые расписывают все преимущества их продукта).\n",
    "\n",
    "Посмотрим на описания более пристально. Во-первых, все ли они на английском языке? Для определения языка воспользуемся модулем langid. Он работает быстрее langdetect (в нашей \"игрушечной\" задаче это почти незаметно, но уже в следующем пункте при работе с отзывами скорость будет существенна). Существенный минус -- langid не умеет предсказывать несколько языков с разной степенью вероятности, но сейчас это не очень важно: мы не будем обучать модель на данных о языке, а просто посмотрим, что есть в нашем датасете."
   ]
  },
  {
   "cell_type": "code",
   "execution_count": 17,
   "id": "220eae9d",
   "metadata": {},
   "outputs": [
    {
     "data": {
      "application/vnd.jupyter.widget-view+json": {
       "model_id": "113f9fe45dca46e8954555cba0beda70",
       "version_major": 2,
       "version_minor": 0
      },
      "text/plain": [
       "  0%|          | 0/1015 [00:00<?, ?it/s]"
      ]
     },
     "metadata": {},
     "output_type": "display_data"
    }
   ],
   "source": [
    "langs = OrderedDict()\n",
    "for i, desc in enumerate(tqdm(descriptions)):\n",
    "    langs[i] = identifier.classify(desc)[0]"
   ]
  },
  {
   "cell_type": "code",
   "execution_count": 18,
   "id": "38238518",
   "metadata": {},
   "outputs": [
    {
     "data": {
      "text/plain": [
       "[('en', 980),\n",
       " ('ml', 17),\n",
       " ('pt', 6),\n",
       " ('it', 4),\n",
       " ('no', 4),\n",
       " ('ca', 1),\n",
       " ('te', 1),\n",
       " ('he', 1),\n",
       " ('nl', 1)]"
      ]
     },
     "execution_count": 18,
     "metadata": {},
     "output_type": "execute_result"
    }
   ],
   "source": [
    "lang_counter = Counter(list(langs.values()))\n",
    "lang_counter.most_common()"
   ]
  },
  {
   "cell_type": "markdown",
   "id": "5faff2af",
   "metadata": {},
   "source": [
    "Скорее всего, все языки, к которым было отнесено от 1 до 6 описаний, были определены неправильно (обычно такое бывает, когда описание очень короткое, всего из пары слов, особенно если эти слова -- какие-л. имена собственные). Выведем по одному описанию на каждом из таких языков и проверим это предположение."
   ]
  },
  {
   "cell_type": "code",
   "execution_count": 19,
   "id": "90017290",
   "metadata": {},
   "outputs": [
    {
     "data": {
      "text/plain": [
       "[('ml',\n",
       "  'WOMENS_NIKE SPORTSWEAR_WMNS NIKE AIR MAX EXCEE_WASHED CORAL/BLACK-WHITE_CD5432-600_10.5 UK_– Nike shoes are lightweight and durable – Despite provides exceptional comfort flexibility of Nike shoes are very light. If you buy a pair of Nike shoes for specific sports you will definitely reap the benefits for a long time.______WOMENS_NIKE SPORTSWEAR_WMNS NIKE AIR MAX എക്സ്\\u200dസിറ്റ്_വാഷിംഗ് കോറോ/ബ്ലാക്ക്-വൈറ്റ്_CD5432-600_10.5 UK_– Nike ഷൂസ് ഭാരം കുറഞ്ഞതും ഈടുനിൽക്കുന്നതുമാണ് - Despite അസാധാരണമായ സുഖവും വഴക്കവും നൽകുന്നു Nike ഷൂസിന്റെ വളരെ ഭാരം കുറഞ്ഞവയാണ്. പ്രത്യേക സ്പോർട്സിനായി ഒരു ജോടി Nike ഷൂസ് വാങ്ങുകയാണെങ്കിൽ നിങ്ങൾ തീർച്ചയായും വളരെക്കാലം അതിന്\\u200dറെ ഗുണങ്ങൾ മറുപടി നൽകും.'),\n",
       " ('ml',\n",
       "  \"SKECHERS రిలాక్స్డ్ ఫిట్తో సులభంగా ధరించే సౌకర్యంతో ప్రకాశవంతమైన వేసవి ఎండ లాగా ప్రకాశిస్తుంది: గ్రానోలా - బ్లూమ్ ఫార్మ్ శాండల్. సాధారణ సౌకర్యంలో మృదువైన మెటాలిక్-ఫినిష్ సింథటిక్ అప్పర్ క్లాసిక్ లుక్ సర్దుబాటు చేయగల బకిల్స్ మరియు Luxe ఫోమ్ ఫుట్బెడ్తో రెండు స్ట్రాప్ స్లైడ్ శాండల్. నిర్మాణ సున్నితమైన సింథటిక్ 'డ్యూరల్హీటర్' అప్పర్ మెటాలిక్ ఫినిష్తో క్లాసిక్ కంఫర్ట్ రెండు స్ట్రాప్ స్లైడ్ శాండల్ డిజైన్ స్టిచ్చింగ్ యాక్సెంట్స్ స్ట్రాప్స్ SKECHERS లోగోతో సర్దుబాటు చేయగల మెటల్ బకిల్స్ కలిగి అదనపు సౌకర్యం కోసం బకిల్ కింద దాగి ఉన్న ఎలాస్టిక్ ప్యానెల్ అదనపు సౌకర్యం కోసం సాలిడ్ సైడ్ ర్యాప్ ప్యానెల్స్ మృదువైన ఫ్యాబ్రిక్ స్ట్రాప్ లైనింగ్ విశ్రాంతి ఫిట్ డిజైన్ విశాలమైన సౌకర్యవంతమైన ఫిట్ Luxe ఫోమ్ పూర్తి పొడవు కుషన్డ్ కంఫర్ట్ ఇన్సోల్ అదనపు మద్దతు మరియు సౌకర్యం కోసం కాంటోర్డ్ ఫుట్బెడ్ డిజైన్ k వెనీర్ మిడ్డీ సోల్ ట్రిమ్ ఫ్లెక్సిబుల్ రబ్బర్ హై ట్రాక్షన్ అవుట్సోల్ 1 in మడమ ఎత్తు.______Shine like the bright summer sun in easy-wearing comfort with the SKECHERS Relaxed Fit: Granola - Bloom Farm sandal. Smooth metallic-finish synthetic upper in a casual comfort two strap slide sandal with classic look adjustable buckles and Luxe Foam footbed. Construction Smooth synthetic 'duraleather' upper with metallic finish Classic comfort two strap slide sandal design Stitching accents Straps features adjustable metal buckles with SKECHERS logo accents Hidden elastic panel under buckles for added comfort Solid side wrap panels for added comfort Soft fabric strap lining Relaxed Fit design for roomy comfortable fit Luxe Foam full length cushioned comfort insole Contoured footbed design for added support and comfort Shock absorbing supportive lightweight midsole Natural cork veneer midsole trim Flexible rubber high traction outsole 1 inch heel height.______SKECHERS ரிலாக்ஸ்டு ஃபிட் உடன் எளிதாக அணியும் வசதியில் பிரகாசமான கோடை சூரியனைப் போல பிரகாசிக்கவும்: கிரானோலா - ப்ளூம் பண்ணை செருப்பு. மென்மையான உலோக-பூச்சு செயற்கை மேல் ஒரு சாதாரண வசதியுடன் இரண்டு ஸ்ட்ராப் ஸ்லைடு செருப்பு கிளாசிக் தோற்றம் சரிசெய்யக்கூடிய கொக்கிகள் மற்றும் லக்ஸ் ஃபோம் அடிப்பகுதி. உலோக பூச்சுடன் கூடிய கட்டுமானம் மென்மையான செயற்கை 'டியூரர்' மேல் கிளாசிக் வசதி இரண்டு ஸ்ட்ராப் ஸ்லைடு செருப்பு வடிவமைப்பு தையல் உச்சரிப்புகள் பட்டைகள் SKECHERS லோகோ உச்சரிப்புகள் கொண்ட சரிசெய்யக்கூடிய உலோக கொக்கிகளுடன் கூடுதல் ஆறுதலுக்காக கொக்குகளின் கீழ் மறைக்கப்பட்ட எலாஸ்டிக் பேனல் கூடுதல் வசதிக்காக திடமான பக்க ராப் பேனல்கள் வசதியான துணி பட்டை லைனிங் தளர்வான பொருத்தம் வடிவமைப்பு வசதியான பொருத்தம் Luxe ஃபோம் முழு நீள குஷன் வசதி இன்சோல் கூடுதல் ஆதரவு மற்றும் ஆறுதல் அதிர்ச்சியை உறிஞ்சுவதற்கு ஆதரவான இலகுரக மிட்சோல் கார்க் veneer மிட் சோல் டிரிம் நெகிழ்வான ரப்பர் உயர் இழுவை அவுட்சோல் 1 அங்குல ஹீல் உயரம்.______SKECHERS റിലാക്സ്ഡ് ഫിറ്റ്: Granola - Bloom Farm sandal. കാഷ്വൽ കംഫർട്ട് ഉള്ള രണ്ട് സ്ട്രാപ്പ് സ്ലൈഡ് ചെരുപ്പ് ക്രമീകരിക്കാവുന്ന ബക്കിൾ ലക്സ് ഫോം ഫൂട്ട് ബെഡ്ഡ്. നിർമ്മാണ മിനുസമാർന്ന സിന്തറ്റിക് 'ഡ്യൂറാലേർ' മുകള്\\u200d' മുകള്\\u200dഭാഗം മെറ്റാലിക് ഫിനിഷ് ക്ലാസിക്ക് കംഫർട്ട് രണ്ട് സ്ട്രാപ്പ് സ്ലൈഡ് സാന്\\u200dഡല്\\u200d ഡിസൈന്\\u200d സ്റ്റിച്ചിംഗ് അക്സെന്\\u200dറ്സ് സ്ട്രാപ്പുകള്\\u200d ക്രമീകരിക്കാവുന്ന മെറ്റല്\\u200d ബക്കിളുകള്\\u200d അധിക സുഖത്തിനായി ബക്കിളുകള്\\u200dക്ക് താഴെയുള്ള മറഞ്ഞിരിക്കുന്ന ഇലാസ്റ്റിക് പാനല്\\u200d അധിക സുഖത്തിനായി സോളിഡ് സൈഡ് റാപ്പ് പാനലുകൾ മൃദുവായ ഫാബ്രിക് സ്ട്രാപ്പ് ലൈനിംഗ് മുറിക്കുന്നതിന് അയഞ്ഞ ഫിറ്റ് ഡിസൈന്\\u200d Luxe ഫോം ഫുള്\\u200d ലെംഗ്ത് കംഫര്\\u200dട്ട് ഇന്\\u200dസോള്\\u200d അധിക സപ്പോര്\\u200dട്ടും കംഫര്\\u200dട്ടബിളും ഷോക്ക് അബ്സോര്\\u200dബ് സപ്പോര്\\u200dട്ട് ചെയ്യുന്നതുമായ മിഡ്സോളും പ്രകൃതിദത്ത കോർക്ക് വെനീനീർ മിഡ്സോൾ ട്രിം ഫ്ലെക്സിബിൾ റബ്ബർ ഹൈ ട്രാക്ഷൻ ഔട്ട്സോൾ 1 in ഹീൽ ഉയരം.______SKECHERS आरामदायक फिट के साथ आसानी से पहनने के आराम में उज्ज्वल गर्मी की धूप की तरह चमक: ग्रेनोला - ब्लूम फार्म सैंडल. स्मूद मेटलिक-फिनिश सिंथेटिक अपर कैज़ुअल आराम में दो स्ट्रैप स्लाइड सैंडल क्लासिक लुक एडजस्टेबल बकल और Luxe फ़ोम फुटबेड के साथ. कंस्ट्रक्शन स्मूद सिंथेटिक 'duraleather' अपर मैटेलिक फ़िनिश के साथ क्लासिक कम्फर्ट दो स्ट्रैप स्लाइड सैंडल डिज़ाइन सिलाई एक्सेंट स्ट्रैप विशेषताएं SKECHERS लोगो एक्सेंट के साथ एडजस्टेबल मेटल बकल के नीचे छिपे हुए इलास्टिक पैनल अतिरिक्त आराम के लिए सॉलिड साइड रैप पैनल सॉफ्ट फ़ैब्रिक स्ट्रैप लाइनिंग आराम से फिट डिज़ाइन विशाल आरामदायक फिट के लिए Luxe फोम पूरी लंबाई कुशन आराम से इनसोल अतिरिक्त सपोर्ट और आराम के लिए कंटूर फुटबेड डिज़ाइन शॉक अब्ज़ॉर्ब करने वाला हल्के मिडसोल प्राकृतिक कॉर्क मिडसोल रबर उच्च कर्षण बाहरी सोल 1 इंच हील की ऊंचाई.______SKECHERS ಆರಾಮದಾಯಕ ಫಿಟ್ನೊಂದಿಗೆ ಸುಲಭವಾಗಿ ಧರಿಸುವ ಸೌಕರ್ಯದಲ್ಲಿ ಪ್ರಕಾಶಮಾನವಾದ ಬೇಸಿಗೆಯ ಸೂರ್ಯನಂತೆ ಹೊಳೆಯುತ್ತದೆ: ಗ್ರಾನೋಲಾ - ಬ್ಲೂಮ್ ಫಾರ್ಮ್ ಸ್ಯಾಂಡಲ್. ಮೃದುವಾದ ಮೆಟಲಿಕ್-ಫಿನಿಶ್ ಸಿಂಥೆಟಿಕ್ ಮೇಲ್ಭಾಗವನ್ನು ಕ್ಯಾಶುಯಲ್ ಆರಾಮದಲ್ಲಿ ಎರಡು ಸ್ಟ್ರಾಪ್ ಸ್ಲೈಡ್ ಸ್ಯಾಂಡಲ್ ಕ್ಲಾಸಿಕ್ ನೋಟ ಹೊಂದಾಣಿಕೆ ಮಾಡಬಹುದಾದ ಬಕಲ್ ಮತ್ತು Luxe ಫೋಮ್ ಫುಟ್ಬೆಡ್. ನಿರ್ಮಾಣ ನಯವಾದ ಸಿಂಥೆಟಿಕ್ 'ಡ್ಯುರಾಲೀಥರ್' ಮೇಲ್ಭಾಗ ಲೋಹೀಯ ಮುಕ್ತಾಯದೊಂದಿಗೆ ಕ್ಲಾಸಿಕ್ ಆರಾಮ. ಎರಡು ಪಟ್ಟಿ ಸ್ಲೈಡ್ ಸ್ಯಾಂಡಲ್ ವಿನ್ಯಾಸ ಹೊಲಿಗೆ ಅಕ್ಸೆಂಟ್ಸ್ ಪಟ್ಟಿಗಳು ವೈಶಿಷ್ಟ್ಯಗಳು ಹೊಂದಾಣಿಕೆ ಮಾಡಬಹುದಾದ ಲೋಹದ ಬಕಲ್ ಗಳು SKECHERS ಲೋಗೋ ಅಕ್ಸೆಂಟ್ಗಳೊಂದಿಗೆ ಮರೆಯಾಗಿರುವ ಎಲಾಸ್ಟಿಕ್ ಪ್ಯಾನಲ್ ಹೆಚ್ಚುವರಿ ಆರಾಮಕ್ಕಾಗಿ ಸಾಲಿಡ್ ಸೈಡ್ ವ್ರಾಪ್ ಫಲಕಗಳು ಹೆಚ್ಚುವರಿ ಆರಾಮಕ್ಕಾಗಿ ಸಾಲಿಡ್ ಸೈಡ್ ವ್ರಾಪ್ ಫಲಕಗಳು ಮೃದುವಾದ ಫ್ಯಾಬ್ರಿಕ್ ಸ್ಟ್ರಾಪ್ ಲೈನಿಂಗ್ ರಿಲ್ಯಾಕ್ಸ್ಡ್ ಫಿಟ್ ವಿನ್ಯಾಸ ಆರಾಮದಾಯಕ ಫಿಟ್ ವಿನ್ಯಾಸ ಐಷಾರಾಮಿ ಫೋಮ್ ಪೂರ್ಣ ಉದ್ದದ ಮೆತ್ತನೆಯ ಆರಾಮ ಇನ್ಸೊಲ್ ಕಾಂಟರ್ಡ್ ಫುಟ್ಬೆಡ್ ವಿನ್ಯಾಸ ಹೆಚ್ಚುವರಿ ಬೆಂಬಲ ಮತ್ತು ಆರಾಮಕ್ಕಾಗಿ ಶಾಕ್ ಹೀರಿಕೊಳ್ಳುವ ಹಗುರವಾದ ಮಧ್ಯದ ಸೋಲ್ ಕಾರ್ಕ್ ವೀರ್ ಮಿಡ್ ಸೋಲ್ ಟ್ರಿಮ್ ಹೊಂದಿಕೊಳ್ಳುವ ರಬ್ಬರ್ ಹೆಚ್ಚಿನ ಎಳೆತ ಮೆಟ್ಟಿನ ಹೊರ ಅಟ್ಟೆ 1 in ಹಿಮ್ಮಡಿ ಎತ್ತರ.\"),\n",
       " ('ml',\n",
       "  'SKECHERS అల్ట్రా ఫ్లెక్స్ 2.0 - Mirkon షూ లో అంతులేని సాగతీత సౌకర్యవంతమైన మరియు సొగసైన స్టైల్తో జత చేయండి. Skech నిట్ మెష్ సాఫ్ట్ నేసిన దాదాపు ఒక పీస్ ఫ్యాబ్రిక్ పైన స్లిప్ ఆన్ స్పోర్టీ కంఫర్ట్ వాకింగ్ మరియు ట్రైనింగ్ స్నీకర్. ఎయిర్ కూల్డ్ మెమరీ ఫోమ్ ఇన్సోల్ అత్యంత సౌకర్యవంతమైన మిడ్సోల్. నిర్మాణ స్కేక్ నిట్ మెష్ సాఫ్ట్ వోవెన్ స్పోర్టి వాకింగ్ మరియు ట్రైనింగ్ స్నీకర్ డిజైన్ పైన ఒక పీస్ ఫాబ్రిక్ పైన స్లిప్ నేసిన ఇన్ కాంట్రాస్ట్ ఇన్స్టెప్ మరియు హీల్ ప్యానెల్పై అల్లిక వివరాలు నేసిన టెక్చర్తో స్ట్రెచ్ ఫిట్ డిజైన్ అల్లిన వివరాలతో సాలిడ్ లేదా తేలికగా ఘనీభవించిన ఫినిష్ అల్లిన కాంట్రాస్ట్ అల్లిక వికర్ణ ఇన్స్టెప్ ప్యానెల్ ఆకృతి ఫినిష్తో సైడ్ S లోగో స్ట్రెచ్ ఫిట్ డిజైన్ ఫ్రంట్ మరియు అదనపు సౌకర్యం కోసం హై అపెక్స్ ఫ్రంట్ మరియు హీల్ ఇన్స్టెప్ ఫాబ్రిక్ ఓవర్లా. పుల్ ఆన్ టాప్ ట్యాబ్లతో ys ప్యాడెడ్ కాలర్ మరియు నాలుక సాఫ్ట్ ఫ్యాబ్రిక్ షూ లైనింగ్ ఎయిర్ కూల్డ్ మెమరీ ఫోమ్ కుషన్డ్ కంఫర్ట్ ఇన్సోల్ అల్ట్రా ఫ్లెక్స్ 2.0 మిడ్సోల్ ఉన్నతమైన ప్రభావంతమైన కుషనింగ్ రక్షణ మరియు గొప్ప శక్తి రిటర్న్ అధిక సౌకర్యవంతమైన వ్యక్తీకరించిన మిడ్సోల్ మరియు కదలిక స్వేచ్ఛ కోసం అవుట్సోల్ డిజైన్ మిడ్సోల్ ఆకృతి ఛానల్ డిజైన్ సౌకర్యవంతమైన వ్యక్తీకరించిన ట్రాక్షన్ డిజైన్తో 1 1/4 in హీల్ మెషిన్ వాషబుల్ డిజైన్ - సున్నితమైన సైకిల్ చలి వరకు వేలాడదీయండి గాలిలో ఆరబెట్టాలి______Team up with the ultimate in stretch flexible comfort and sleek style in the SKECHERS Ultra Flex 2.0 - Mirkon shoe. Skech Knit Mesh soft woven nearly one piece fabric upper in a slip on sporty comfort walking and training sneaker. Air Cooled Memory Foam insole highly flexible comfort midsole. Construction Skech Knit Mesh soft woven nearly one piece fabric upper Slip on sporty walking and training sneaker design Woven-in contrast knit detail on instep and heel panel Stretch Fit design with woven texture knit detail Solid or lightly heathered finish knit for sporty look Contrast knit diagonal instep panel with texture finish Side S logo Stretch fit design front and instep for soft snug fit High apex front and heel for added comfort Heel and instep fabric overlays with pull on top tabs Padded collar and tongue Soft fabric shoe lining Air Cooled Memory Foam cushioned comfort insole Ultra Flex 2.0 midsole with superior impact cushioning protection and remarkable energy return Highly flexible articulated midsole and outsole design for freedom of movement Textured channel design midsole finish Flexible outsole with flexible articulated traction design 1 1/4 inch heel Machine Washable design - Gentle Cycle cold hang up to air dry______SKECHERS அல்ட்ரா ஃப்ளெக்ஸ் 2.0 - Mirkon ஷூவில் நீட்டிக்க நெகிழ்வான வசதி மற்றும் நேர்த்தியான பாணியுடன் இறுதியுடன் இணைக்கவும். Skech நிட் மெஷ் மென்மையாக நெய்த கிட்டத்தட்ட ஒரு பீஸ் துணி மேல் ஒரு சொட்டாக ஸ்போர்ட்டி வசதியான நடைபயிற்சி மற்றும் பயிற்சி ஸ்னீக்கர். ஏர் கூல்டு மெமரி ஃபோம் இன்சோல் அதிக நெகிழ்வான வசதியான மிட்சோல். கட்டுமான திறன் பின்னல் மெஷ் மென்மையான நெய்த கிட்டத்தட்ட ஒரு துண்டு துணி மேல் ஸ்லிப் ஆன் ஸ்போர்ட்டி நடைபயிற்சி மற்றும் பயிற்சி ஸ்னீக்கர் வடிவமைப்பு instep மற்றும் ஹீல் பேனல் ஸ்ட்ரெட்ச் ஃபிட் வடிவமைப்பு நெய்த அமைப்பு பின்னப்பட்ட விவரம் மற்றும் கூடுதல் வசதியான ஹீல் மற்றும் instep துணிக்கு சாலிட் அல்லது லேசாக ஹீஸ்டர்டு ஃபினிஷ் பின்னப்பட்ட பின்னல் பின்னல் பின்னல் பின்னல் மூலைவிட்ட இன்ஸ்டாப் பேனல் டெக்ஸ்சர் ஃபினிஷ் சைட் S லோகோ ஸ்ட்ரெட்ச் ஃபிட் வடிவமைப்பு முன் மற்றும் செருப்புடன் மென்மையான கதகதப்பான பொருத்தம் உயர் apex முன் மற்றும் ஹீல் கூடுதல் வசதியான ஹீல் மற்றும் instep துணிக்கு இழுக்கும் தன்மையுடன் ஓவர்லேஸ் மேல் தாவல்கள் பேடட் காலர் மற்றும் நாக்கு மென்மையான துணி ஷூ லைனிங் ஏர் கூலிங் செய்யப்பட்ட மெமரி ஃபோம் குஷன் வசதி இன்சோல் அல்ட்ரா ஃப்ளெக்ஸ் 2.0 மிட்சோல் சிறந்த தாக்க குஷனிங் பாதுகாப்பு மற்றும் குறிப்பிடத்தக்க ஆற்றல் திரும்ப அதிக நெகிழ்வான வெளிப்படையான நடுசோல் மற்றும் அவுட்சோல் வடிவமைப்பு கடினமான சேனல் வடிவமைப்பு மிட்சோல் பூச்சு நெகிழ்வான அவுட்சோல் நெகிழ்வான அவுட்சோல் நெகிழ்வான வெளிசோல் நெகிழ்வான வெளிப்படையான இழுவை வடிவமைப்பு 1 1/4 inch ஹீல் இயந்திரம் துவைக்கக்கூடிய வடிவமைப்பு - மென்மையான சைக்கிள் குளிர் காற்றில் உலர வைக்கவும்______SKECHERS Ultra Flex 2.0 - Mirkon ഷൂയിൽ നിങ്ങൾക്ക് അയവുള്ള സുഖപ്രദവും ആകർഷകവുമായ ശൈലിയോടൊപ്പം ആത്യന്തികമായി ചേരുക. Skech Knit മെഷ് മൃദുവായതും സ്പോർട്ടി കംഫർട്ട് വാക്കിംഗിനും പരിശീലന സ്നീക്കറിനുമായി ഒരു പീസ് ഫാബ്രിക് മുകളിൽ തയ്ച്ചിട്ടുണ്ട്. എയർ കൂൾഡ് മെമ്മറി ഫോം ഇൻസോൾ വളരെ വഴക്കമുള്ള സുഖപ്രദമായ മിഡ്സോൾ. കൺസ്ട്രക്ഷൻ സ്കിൻ നിറ്റ് മെഷ് മൃദുവായി നെയ്തത് ഏകദേശം ഒരു പീസ് ഫാബ്രിക് അപ്പർ സ്ലിപ്പ് സ്പോർടി വാക്കിലും പരിശീലന സ്നീക്കർ ഡിസൈൻ വിന്റോഇൻ കോൺട്രാസ്റ്റ് നിറ്റ് ഡീറ്റെയിലും ഉപ്പൂറ്റിയിലും ഉള്ള സ്ട്രെച്ച് ഫിറ്റ് ഡിസൈൻ നെയ്ത ടെക്സ്ചർ നിറ്റ് ഡീറ്റെയിൽ സോളിഡ് അല്ലെങ്കിൽ ലഘുവായി ഹെതേർഡ് ഫിനിഷ് നിറ്റ് ചെയ്ത ഡയഗണൽ ഇൻസെപ്പ് പാനൽ ടെക്സ്ചർ ഫിനിഷുള്ള സൈഡ് S ലോഗോ സ്ട്രെച്ച് ഫിറ്റ് ഡിസൈൻ ഫ്രണ്ട് & സോഫ്റ്റ് സ്ലീക്ക് ഫിറ്റിനായി ഹൈ അപ്പെക്സ് ഹീൽ ഇന്നർ ഫാബ്രിക് പുൾ ഓൺ ടോപ്പ് ടാബുകളുള്ള ഓവർലേകൾ പാഡ്ഡ് കോളറും ടംഗ് സോഫ്റ്റ് ഫാബ്രിക് ഷൂ ലൈനിംഗും എയർ കൂൾഡ് മെമ്മറി ഫോം കുഷ്യനുള്ള കംഫർട്ട് ഇൻസോൾ അൾട്രാ ഫ്ലെക്സ് 2.0 മിഡ്സോൾ മികച്ച ഇംപാക്റ്റ് കുഷ്യനിംഗും മികച്ച ഊർജ്ജക്ഷമതയും നൽകുന്ന ഉയർന്ന വഴക്കമുള്ള ആർട്ടിക്കുലേറ്റഡ് മിഡ്സോളും ഔട്ട്സോൾ ഡിസൈനും ചലന സ്വാതന്ത്ര്യത്തിനായി വഴക്കമുള്ള ഔട്ട്സോൾ ഫിനിഷ് ഫ്ലെക്സിബിൾ ഔട്ട്സോളും ഫ്ലെക്സിബിൾ ഔട്ട്സോൾ ഡിസൈൻ 1 / 4 in കോൾഡ് ഹീൽ മെഷീൻ കഴുകാവുന്ന ഡിസൈൻ - സൗമ്യമായ സൈക്കിൾ വായു ഉണക്കാനായി തൂക്കിയിടാം______SKECHERS अल्ट्रा फ्लेक्स 2.0 - Mirkon शूज़ में स्ट्रेच लचीले आराम और स्लीक स्टाइल में परम के साथ पहनें. Skech Knit मेश सॉफ्ट बुना हुआ लगभग एक पीस फ़ैब्रिक अपर स्लिप पर स्पोर्टी कम्फर्ट वॉकिंग और ट्रेनिंग स्नीकर में. एयर कूल्ड मेमोरी फोम इनसोल अत्यधिक लचीला आराम मिडसोल. कंस्ट्रक्शन Skech निट मेश सॉफ्ट बुना हुआ लगभग एक पीस फ़ैब्रिक अपर स्लिप ऑन स्पोर्टी वॉकिंग और ट्रेनिंग स्नीकर डिज़ाइन इनस्टेप और हील पैनल पर बुना हुआ कंट्रास्ट निट डिटेल स्ट्रेच फिट डिज़ाइन बुना हुआ टेक्सचर बुनाई डिटेल के साथ सॉलिड या हल्के से हीथर्ड फ़िनिश स्पोर्टी लुक के लिए निट कंट्रास्ट निट डायगोनल इनस्टेप पैनल टेक्सचर फ़िनिश के साथ साइड S लोगो स्ट्रेच फिट डिज़ाइन फ्रंट और इनस्टेप सॉफ्ट स्नग फिट के लिए हाई एपेक्स फ्रंट और हील अतिरिक्त आराम के लिए हील और इनस्टेप अपर फ़ैब्रिक ओवरलास्ट शीर्ष पर खींचने के साथ ys टैब पैडेड कॉलर और जीभ सॉफ्ट फ़ैब्रिक शू लाइनिंग एयर कूल्ड मेमोरी फ़ोम कुशन कम्फर्ट इनसोल अल्ट्रा फ्लेक्स 2.0 मिडसोल बेहतर इम्पैक्ट कुशनिंग सुरक्षा और उल्लेखनीय ऊर्जा वापसी के साथ अत्यधिक लचीला आर्टिकुलेटेड मिडसोल और आउटसोल डिज़ाइन मूवमेंट की स्वतंत्रता के लिए टेक्सचर चैनल डिज़ाइन मिडसोल फ़िनिश लचीला आर्टिकुलेटेड ट्रैक्शन डिज़ाइन के साथ फ्लेक्सिबल आउटसोल 1 1/4 इंच हील मशीन वॉशेबल डिज़ाइन - जेंटल साइकिल ठंड हवा में सूखने तक लटकाएं______SKECHERS ಅಲ್ಟ್ರಾ ಫ್ಲೆಕ್ಸ್ 2.0 - ಮಿರ್ಕಾನ್ ಶೂನಲ್ಲಿ ಸ್ಟ್ರೆಚ್ ಹೊಂದಿಕೊಳ್ಳುವ ಆರಾಮ ಮತ್ತು ನಯವಾದ ಶೈಲಿಯಲ್ಲಿ ಅಂತಿಮವಾಗಿ ಜೋಡಿಸಿ. ಕ್ರೀಡಾ ಆರಾಮ ವಾಕಿಂಗ್ ಮತ್ತು ತರಬೇತಿ ಸ್ನೀಕರ್ನಲ್ಲಿ ಸ್ಲಿಪ್ ನಲ್ಲಿ Skech ಹೆಣೆದ ಮೆಶ್ ಮೃದುವಾಗಿ ಸುಮಾರು ಒಂದು ಪೀಸ್ ಬಟ್ಟೆಯ ಮೇಲ್ಭಾಗ. ಏರ್ ಕೂಲ್ಡ್ ಮೆಮೊರಿ ಫೋಮ್ ಇನ್ಸೋಲ್ ಹೆಚ್ಚು ಹೊಂದಿಕೊಳ್ಳುವ ಆರಾಮ ಮಿಡ್ಸೋಲ್. ನಿರ್ಮಾಣ ಸ್ಕೇಕ್ ನಿಟ್ ಮೆಶ್ ಮೃದುವಾಗಿ ನೇಯ್ದ ಸುಮಾರು ಒಂದು ತುಂಡು ಬಟ್ಟೆಯ ಮೇಲಿನ ಸ್ಲಿಪ್ ಸ್ಪೋರ್ಟಿ ವಾಕಿಂಗ್ ಮತ್ತು ತರಬೇತಿ ಸ್ನೀಕರ್ ವಿನ್ಯಾಸ ಇಂಡಪ್ ಮತ್ತು ಹೀಲ್ ಪ್ಯಾನೆಲ್ನಲ್ಲಿ ಹೆಣೆದಿರುವ ವಿವರ ಸ್ಟ್ರೆಚ್ ಫಿಟ್ ವಿನ್ಯಾಸ ಹೆಣೆದ ವಿನ್ಯಾಸದೊಂದಿಗೆ ಸಾಲಿಡ್ ಅಥವಾ ಲಘುವಾಗಿ ಹೀದರ್ಡ್ ಫಿನಿಶ್ ಸ್ಪೋರ್ಟಿ ನೋಟಕ್ಕಾಗಿ ಹೆಣೆದ ಹೆಣೆದ ಕರ್ಣೀಯ ಇನ್ಸ್ಟಾಪ್ ಪ್ಯಾನಲ್ ಟೆಕ್ಸ್ನೊಂದಿಗೆ ಸೈಡ್ ಎಸ್ ಲೋಗೋ ಸ್ಟ್ರೆಚ್ ಫಿಟ್ ವಿನ್ಯಾಸ ಮುಂಭಾಗ ಮತ್ತು ಮೃದುವಾದ ಸ್ನ್ಯಾಗ್ ಫಿಟ್ಗಾಗಿ ಸ್ಥಾಪಿಸಿ ಹೈ ಪೆಕ್ಸ್ ಫ್ರಂಟ್ ಮತ್ತು ಹೀಲ್ ಅನ್ನು ಸೇರಿಸಲಾಗಿದೆ ಆರಾಮ ಹೀಲ್ ಮತ್ತು ಇನ್ಸ್ಟಾಪ್ ಮೇಲಿನ ಟ್ಯಾಬ್ಗಳನ್ನು ಪುಲ್ ಆನ್ ಇರುವ ಫ್ಯಾಬ್ರಿಕ್ ಓವರ್ಲೇಗಳು ಪ್ಯಾಡೆಡ್ ಕಾಲರ್ ಮತ್ತು ಟಾಂಗ್ ಸಾಫ್ಟ್ ಫ್ಯಾಬ್ರಿಕ್ ಶೂ ಲೈನಿಂಗ್ ಏರ್ ಕೂಲ್ ಮೆಮೊರಿ ಫೋಮ್ ಮೆತ್ತನೆಯ ಆರಾಮ ಇನ್ಸೊಲ್ ಅಲ್ಟ್ರಾ ಫ್ಲೆಕ್ಸ್ 2.0 ಮಿಡ್ಸೋಲ್ ಉತ್ತಮ ಪರಿಣಾಮದ ಮೆತ್ತನೆಯ ರಕ್ಷಣೆ ಮತ್ತು ಗಮನಾರ್ಹ ಶಕ್ತಿ ರಿಟರ್ನ್ ನೊಂದಿಗೆ ಹೆಚ್ಚು ಹೊಂದಿಕೊಳ್ಳುವ ಆರ್ಟಿಕ್ಯುಲೇಟೆಡ್ ಮಿಡ್ ಸೋಲ್ ಮತ್ತು ಹೊರಗಿನ ಸೋಲ್ ವಿನ್ಯಾಸ ಚಲನೆಯ ಸ್ವಾತಂತ್ರ್ಯಕ್ಕಾಗಿ ಟೆಕ್ಸ್ಚರ್ಡ್ ಚಾನಲ್ ವಿನ್ಯಾಸ ಮಿಡ್ಸೋಲ್ ಫಿನಿಶ್ ಹೊಂದಿಕೊಳ್ಳುವ ಮೆಟ್ಟಿನ ಹೊರ ಅಟ್ಟೆ ವಿನ್ಯಾಸದೊಂದಿಗೆ 1 1/4 ಇಂಚಿನ ಹಿಮ್ಮಡಿ ಯಂತ್ರ ತೊಳೆಯಬಹುದಾದ ವಿನ್ಯಾಸ - ಮೃದುವಾದ ಸೈಕಲ್ ಶೀತ ಗಾಳಿಯಲ್ಲಿ ಒಣಗಲು ಸ್ಥಗಿತಗೊಳ್ಳುತ್ತದೆ'),\n",
       " ('no', 'Sukun Casual Shoes Knittig Socks Shoes for Ladies & Girls'),\n",
       " ('ml',\n",
       "  'SKECHERS Moreway - చాప్సన్ షూలో సున్నితమైన స్టైల్తో మీ ఆప్షన్లను సూపర్ ఫ్లెక్సిబుల్ మరియు సౌకర్యవంతంగా ఉంచండి. మృదువైన నేసిన మెష్ ఫ్యాబ్రిక్ మరియు మృదువైన సింథటిక్ అప్పర్ స్లిప్ ఆన్ క్యాజువల్ కంఫర్ట్ లోఫర్ స్టైల్ బోట్ షూతో కుట్టడం మరియు అతివ్యాప్తి యాక్సెంట్లు. ఎయిర్ కూల్డ్ మెమరీ ఫోమ్ ఇన్సోల్. నిర్మాణం మృదువైన మృదువైన నేసిన మెష్ ఫాబ్రిక్ ఎగువ మృదువైన సింథటిక్ ఓవర్లేస్ కాలర్ వద్ద మడమ స్లిప్ సాధారణం కంఫర్ట్ లోఫర్ మోక్ బోట్ షూ డిజైన్ స్టిచింగ్ యాక్సెంట్స్ కుట్టిన ఎత్తైన సీమ్ యాక్సెంటెడ్ మోక్ టో ఫ్రంట్ బ్రీతబుల్ మెష్ ఫాబ్రిక్ కాలర్ మరియు హీల్ ప్యానెల్ వద్ద మృదువైన సాలిడ్ లుక్ టోన్-ఆన్-టోన్ సింథటిక్ ఓవర్లేస్తో సున్నితమైన శుద్ధి చేసిన లోఫర్ డిజైన్ సాదా వెనీషియన్ ముందు మరియు పక్కలలో చుట్టబడిన కుట్టు వివరాలతో మడమ ప్యానెల్ ఓవర్లే కంఫర్ట్ ఇన్స్టెప్ ప్యానెల్ ప్యాడెడ్ కాలర్ సాఫ్ట్ ఫ్యాబ్రిక్ షూ లైనింగ్ ఎయిర్ కూల్డ్ మెమరీ ఫోమ్ కుషన్డ్ కంఫర్ట్ ఇన్సోల్ గోగే మాట్ అదనపు మద్దతు కోసం ఆర్చ్ కుషన్ ఉచ్చారణ డిజైన్తో చాలా తేలికపాటి షాక్ శోషక మిడ్సోల్ సున్నితమైన సిప్డ్ ట్రాక్షన్ అవుట్సోల్ 1 in హీల్ మీ ఎంపికలను సూపర్ ఫ్లెక్సిబుల్ మరియు సౌకర్యవంతంగా ఉంచండి SKECHERS Moreway - చాప్సన్ షూ. మృదువైన నేసిన మెష్ ఫ్యాబ్రిక్ మరియు మృదువైన సింథటిక్ అప్పర్ స్లిప్ ఆన్ క్యాజువల్ కంఫర్ట్ లోఫర్ స్టైల్ బోట్ షూతో కుట్టడం మరియు అతివ్యాప్తి యాక్సెంట్లు. ఎయిర్ కూల్డ్ మెమరీ ఫోమ్ ఇన్సోల్. నిర్మాణం మృదువైన మృదువైన నేసిన మెష్ ఫాబ్రిక్ ఎగువ మృదువైన సింథటిక్ ఓవర్లేస్ కాలర్ వద్ద మడమ స్లిప్ సాధారణం కంఫర్ట్ లోఫర్ మోక్ బోట్ షూ డిజైన్ స్టిచింగ్ యాక్సెంట్స్ కుట్టిన ఎత్తైన సీమ్ యాక్సెంటెడ్ మోక్ టో ఫ్రంట్ బ్రీతబుల్ మెష్ ఫాబ్రిక్ కాలర్ మరియు హీల్ ప్యానెల్ వద్ద మృదువైన సాలిడ్ లుక్ టోన్-ఆన్-టోన్ సింథటిక్ ఓవర్లేస్తో సున్నితమైన శుద్ధి చేసిన లోఫర్ డిజైన్ సాదా వెనీషియన్ ముందు మరియు పక్కలలో చుట్టబడిన కుట్టు వివరాలతో మడమ ప్యానెల్ ఓవర్లే కంఫర్ట్ ఇన్స్టెప్ ప్యానెల్ ప్యాడెడ్ కాలర్ సాఫ్ట్ ఫ్యాబ్రిక్ షూ లైనింగ్ ఎయిర్ కూల్డ్ మెమరీ ఫోమ్ కుషన్డ్ కంఫర్ట్ ఇన్సోల్ గోగే మాట్ అదనపు మద్దతు కోసం ఆర్చ్ కుషన్ చాలా తేలికపాటి షాక్ శోషక ఆర్టిక్యులేటెడ్ డిజైన్తో మిడ్సోల్ ఫ్లెక్సిబుల్ సిప్డ్ ట్రాక్షన్ అవుట్సోల్ 1 in హీల్______Keep your options super flexible and comfortable with suave style in the SKECHERS Moreway - Chapson shoe. Soft woven mesh fabric and smooth synthetic upper in a slip on casual comfort loafer styled boat shoe with stitching and overlay accents. Air Cooled Memory Foam insole. Construction Soft smooth woven mesh fabric upper Smooth synthetic overlays at collar and heel Slip on casual comfort loafer moc boat shoe design Stitching accents Stitched raised seam accented moc toe front Breathable mesh fabric with smooth solid look Tone-on-tone synthetic overlays at collar and heel panel Smooth refined loafer design with plain Venetian front and rolled stitch detailing at sides Heel panel overlay with stitched edging Slip on design with flexible comfort instep panel Padded collar Soft fabric shoe lining Air Cooled Memory Foam cushioned comfort insole Goga Mat Arch cushion for added support Very lightweight shock absorbing midsole with articulated design Flexible siped traction outsole 1 inch heel Keep your options super flexible and comfortable with suave style in the SKECHERS Moreway - Chapson shoe. Soft woven mesh fabric and smooth synthetic upper in a slip on casual comfort loafer styled boat shoe with stitching and overlay accents. Air Cooled Memory Foam insole. Construction Soft smooth woven mesh fabric upper Smooth synthetic overlays at collar and heel Slip on casual comfort loafer moc boat shoe design Stitching accents Stitched raised seam accented moc toe front Breathable mesh fabric with smooth solid look Tone-on-tone synthetic overlays at collar and heel panel Smooth refined loafer design with plain Venetian front and rolled stitch detailing at sides Heel panel overlay with stitched edging Slip on design with flexible comfort instep panel Padded collar Soft fabric shoe lining Air Cooled Memory Foam cushioned comfort insole Goga Mat Arch cushion for added support Very lightweight shock absorbing midsole with articulated design Flexible siped traction outsole 1 inch heel______SKECHERS Moreway - ചപ്പാത്തി ഷൂവിൽ സുഖകരമായ സ്റ്റൈൽ ഉപയോഗിച്ച് നിങ്ങളുടെ ഓപ്ഷനുകൾ വളരെ വഴക്കമുള്ളതും സുഖകരവുമാക്കുന്നു - ചപ്പാത്തി ഷൂ. കാഷ്വൽ കംഫർട്ട് ലോഫർ സ്റ്റൈൽ ചെയ്ത ബോട്ട് ഷൂ തുന്നലും ഓവർലേ ആക്സന്റുകളും ഉള്ള മൃദുവായ നെയ്ത മെഷ് ഫാബ്രിക്കും മിനുസമാർന്ന സിന്തറ്റിക് ടോപ്പും എയർ കൂൾഡ് മെമ്മറി ഫോം ഇൻസോളിൽ നിർമാണം മൃദുവായ മിനുസമാർന്ന നെയ്ത മെഷ് ഫാബ്രിക് കോളറിലും ഹീൽ പാനലിലും മുകളിലായി മിനുസമാർന്ന സിന്തറ്റിക് ഓവർലേകളും കാഷ്വൽ കംഫർട്ട് ലോഫർ മോക്ക് ബോട്ട് ഷൂ ഡിസൈൻ സ്റ്റിച്ചിംഗ് ആക്സന്റുകൾ തുന്നിച്ചേർത്തതും ഉയർന്നതുമായ സീം അസറ്റഡ് മോക് ടോ ഫ്രണ്ട് ബ്രീത്തബിൾ മെഷ് ഫാബ്രിക് കോളറിലും ഹീൽ പാനലിലും സുഗമമായ റിഫൈൻഡ് ലോഫർ ഡിസൈനും പ്ലെയിൻ വെനീഷ്യൻ ഫ്രണ്ട് റോൾഡ് സ്റ്റിച്ച് ഡീറ്റെയിൽ നൽകിയിരിക്കുന്നു. ഹീൽ പാനലിൽ തുന്നിച്ചേർത്ത അരികിംഗ് നൽകിയിരിക്കുന്നു. സൗകര്യപ്രദമായ സൗകര്യപ്രദമായ സൗകര്യപ്രദമായ ഡിസൈന്\\u200d അപ്പ് പാനൽ പാഡഡ് കോളർ സോഫ്റ്റ് ഫാബ്രിക് ഷൂ ലൈനിംഗ് എയർ കൂൾഡ് മെമ്മറി ഫോം കുഷ്യനുള്ള കംഫർട്ട് ഇൻസോൾ ഗോഗിൾ മാറ്റ് ആർച്ച് കുഷ്യൻ അധിക സപ്പോർട്ടിനായി വളരെ ഭാരം കുറഞ്ഞ ഷോക്ക് അബ്സോർബിങ്ങ് മിഡ്സോൾ ആർട്ടിക്കുലേറ്റഡ് ഡിസൈൻ ഫ്ലെക്സിബിൾ സിപ്പ്ഡ് ട്രാക്ഷൻ ഔട്ട്സോൾ 1 in ഹീൽ നിങ്ങളുടെ ഓപ്ഷനുകൾ സൂപ്പർ വഴക്കമുള്ളതും സുഖകരവുമാക്കുന്നു ഒപ്പം SKECHERS Moreway - ചപ്പാത്തി ഷൂയിൽ കാഷ്വൽ കംഫർട്ട് ലോഫർ സ്റ്റൈൽ ചെയ്ത ബോട്ട് ഷൂ തുന്നലും ഓവർലേ ആക്സന്റുകളും ഉള്ള മൃദുവായ നെയ്ത മെഷ് ഫാബ്രിക്കും മിനുസമാർന്ന സിന്തറ്റിക് ടോപ്പും എയർ കൂൾഡ് മെമ്മറി ഫോം ഇൻസോളിൽ നിർമാണം മൃദുവായ മിനുസമാർന്ന നെയ്ത മെഷ് ഫാബ്രിക് കോളറിലും ഹീൽ പാനലിലും മുകളിലായി മിനുസമാർന്ന സിന്തറ്റിക് ഓവർലേകളും കാഷ്വൽ കംഫർട്ട് ലോഫർ മോക്ക് ബോട്ട് ഷൂ ഡിസൈൻ സ്റ്റിച്ചിംഗ് ആക്സന്റുകൾ തുന്നിച്ചേർത്തതും ഉയർന്നതുമായ സീം അസറ്റഡ് മോക് ടോ ഫ്രണ്ട് ബ്രീത്തബിൾ മെഷ് ഫാബ്രിക് കോളറിലും ഹീൽ പാനലിലും സുഗമമായ റിഫൈൻഡ് ലോഫർ ഡിസൈനും പ്ലെയിൻ വെനീഷ്യൻ ഫ്രണ്ട് റോൾഡ് സ്റ്റിച്ച് ഡീറ്റെയിൽ നൽകിയിരിക്കുന്നു. ഹീൽ പാനലിൽ തുന്നിച്ചേർത്ത അരികിംഗ് നൽകിയിരിക്കുന്നു. സൗകര്യപ്രദമായ സൗകര്യപ്രദമായ സൗകര്യപ്രദമായ ഡിസൈന്\\u200d ep പാനൽ പാഡഡ് കോളർ സോഫ്റ്റ് ഫാബ്രിക് ഷൂ ലൈനിംഗ് എയർ കൂൾഡ് മെമ്മറി ഫോം കുഷ്യനുള്ള കംഫർട്ട് ഇൻസോൾ ഗോഗിൾ മാറ്റ് ആർച്ച് കുഷ്യൻ അധിക സപ്പോർട്ടിനായി വളരെ ഭാരം കുറഞ്ഞ ഷോക്ക് ആഗിരണം ചെയ്യുന്ന മിഡ്സോൾ ആർട്ടിക്കുലേറ്റഡ് ഡിസൈൻ ഫ്ലെക്സിബിൾ സിപ്പ്ഡ് ട്രാക്ഷൻ ഔട്ട്സോൾ 1 in ഹീൽ______உங்கள் விருப்பங்களை சூப்பர் நெகிழ்வானதாகவும் வசதியாகவும் SKECHERS Moreway - சாப்ஸன் ஷூவில் மெல்லிய ஸ்டைலுடன் வைத்திருங்கள். மென்மையான நெய்த மெஷ் துணி மற்றும் மென்மையான செயற்கை மேல் ஒரு ஸ்லிப் ஆன் சாதாரண ஆறுதல் லோஃபர் பாணியில் படகு ஷூ தையல் மற்றும் மேலடுக்கு உச்சரிப்புகளுடன் ஏர் கூல்டு மெமரி ஃபோம் இன்சோல். கட்டமைப்பு மென்மையான மென்மையான நெய்த மெஷ் துணி மேல் மென்மையான செயற்கை ஓவர்லேஸ் காலரில் குதிகால் ஸ்லிப்-ஆன் லோஃபர் மாப் ஷூ வடிவமைப்பு தையல் உச்சரிப்புகள் தைத்த உயர்த்தப்பட்ட மடிப்பு உச்சரிக்கப்பட்ட moc கால் முன் காற்றோட்டமான மெஷ் துணி காலர் மற்றும் குதிகால் பேனலில் செயற்கை ஓவர்லேஸ் மற்றும் கால் பேனலில் மென்மையான சுத்திகரிக்கப்பட்ட லோஃபர் வடிவமைப்பு வெற்று வெனிஷியன் முன் மற்றும் சுருட்டப்பட்ட தையல் விவரங்களுடன் குதிகால் பேனல் மேலடுக்கு தையல் நெகிழ்வான வசதியுடன் கூடிய வடிவமைப்பு ep panel பேடட் காலர் மென்மையான துணி ஷூ லைனிங் ஏர் கூல்டு மெமரி ஃபோம் குஷன் செய்யப்பட்ட கம்ஃபோல் இன்சோல் கோகா மேட் ஆர்ச் குஷன் கூடுதல் ஆதரவுக்காக மிகவும் இலகுரக ஷாக் உறிஞ்சும் மிட்சோல் வெளிப்படையான வடிவமைப்புடன் நெகிழ்வான சிப்பிங் இழுவை அவுட்சோல் 1 அங்குல ஹீல் உங்கள் விருப்பங்களை சூப்பர் நெகிழ்வானதாகவும் வசதியாகவும் வைத்திருக்கும் SKECHERS Moreway - சாப்ஸன் ஷூ. மென்மையான நெய்த மெஷ் துணி மற்றும் மென்மையான செயற்கை மேல் ஒரு ஸ்லிப் ஆன் சாதாரண ஆறுதல் லோஃபர் பாணியில் படகு ஷூ தையல் மற்றும் மேலடுக்கு உச்சரிப்புகளுடன் ஏர் கூல்டு மெமரி ஃபோம் இன்சோல். கட்டமைப்பு மென்மையான மென்மையான நெய்த மெஷ் துணி மேல் மென்மையான செயற்கை ஓவர்லேஸ் காலரில் குதிகால் ஸ்லிப்-ஆன் லோஃபர் மாப் ஷூ வடிவமைப்பு தையல் உச்சரிப்புகள் தைத்த உயர்த்தப்பட்ட மடிப்பு உச்சரிக்கப்பட்ட moc கால் முன் காற்றோட்டமான மெஷ் துணி காலர் மற்றும் குதிகால் பேனலில் செயற்கை ஓவர்லேஸ் மற்றும் கால் பேனலில் மென்மையான சுத்திகரிக்கப்பட்ட லோஃபர் வடிவமைப்பு வெற்று வெனிஷியன் முன் மற்றும் சுருட்டப்பட்ட தையல் விவரங்களுடன் குதிகால் பேனல் மேலடுக்கு தையல் நெகிழ்வான வசதியுடன் கூடிய வடிவமைப்பு ep panel பேட் செய்யப்பட்ட காலர் மென்மையான துணி ஷூ லைனிங் ஏர் கூல்டு மெமரி ஃபோம் குஷன் செய்யப்பட்ட வசதியான இன்சோல் கோகா மேட் ஆர்ச் குஷன் கூடுதல் ஆதரவுக்காக மிகவும் இலகுரக ஷாக் உறிஞ்சும் மிட்சோல் வெளிப்படையான வடிவமைப்புடன் நெகிழ்வான சிப்ச்ட் இழுவை அவுட்சோல் 1 inch ஹீல்______SKECHERS Moreway - Chapson Shoe. सॉफ्ट बुना हुआ मेश फ़ैब्रिक और स्मूद सिंथेटिक अपर स्लिप ऑन कैज़ुअल कम्फर्ट लोफ़र स्टाइल बोट शू स्टिच और ओवरले एक्सेंट के साथ. एयर कूल्ड मेमोरी फोम इनसोल कंस्ट्रक्शन सॉफ्ट स्मूद बुना हुआ मेश फ़ैब्रिक अपर कॉलर और हील पर स्मूद सिंथेटिक ओवरले कैज़ुअल कम्फर्ट लोफ़र moc बोट शू डिज़ाइन सिलाई एक्सेंट स्टिच्ड उठाई सीम एक्सेंट मोक टो फ्रंट स्मूद सॉलिड लुक के साथ हवा पार होने योग्य मेश फ़ैब्रिक कॉलर और हील पैनल पर टोन-ऑन-टोन सिंथेटिक ओवरले सादे वेनिस फ्रंट और रोल्ड स्टिच डिटेल के साथ स्मूद रिफाइंड लोफ़र डिज़ाइन स्टिच्ड एज के साथ हील पैनल ओवरले फ्लेक्सिबल कम्फर्ट इनस्टेप पैनल के साथ डिज़ाइन पर स्लिप कॉलर नरम कपड़े जूता अस्तर एयर कूल्ड मेमोरी फोम कुशन कम्फर्ट इनसोल गोगा मैट आर्क कुशन अतिरिक्त सपोर्ट के लिए आर्टिकुलेटेड डिज़ाइन के साथ बहुत हल्के शॉक अब्ज़ॉर्ब मिडसोल फ्लेक्सिबल सिप्ड ट्रैक्शन आउटसोल 1 इंच हील अपने विकल्पों को सुपर लचीला और आरामदायक रखें SKECHERS में suave स्टाइल के साथ - Chapson shoe. सॉफ्ट बुना हुआ मेश फ़ैब्रिक और स्मूद सिंथेटिक अपर स्लिप ऑन कैज़ुअल कम्फर्ट लोफ़र स्टाइल बोट शू स्टिच और ओवरले एक्सेंट के साथ. एयर कूल्ड मेमोरी फोम इनसोल कंस्ट्रक्शन सॉफ्ट स्मूद बुना हुआ मेश फ़ैब्रिक अपर कॉलर और हील पर स्मूद सिंथेटिक ओवरले कैज़ुअल कम्फर्ट लोफ़र moc बोट शू डिज़ाइन सिलाई एक्सेंट स्टिच्ड उठाई सीम एक्सेंट मोक टो फ्रंट स्मूद सॉलिड लुक के साथ हवा पार होने योग्य मेश फ़ैब्रिक कॉलर और हील पैनल पर टोन-ऑन-टोन सिंथेटिक ओवरले सादे वेनिस फ्रंट और रोल्ड स्टिच डिटेल के साथ स्मूद रिफाइंड लोफ़र डिज़ाइन स्टिच्ड एज के साथ हील पैनल ओवरले फ्लेक्सिबल कम्फर्ट इनस्टेप पैनल के साथ डिज़ाइन पर स्लिप कॉलर नरम कपड़े जूता अस्तर एयर कूल्ड मेमोरी फोम कुशन कम्फर्ट इनसोल गोगा मैट आर्क कुशन अतिरिक्त सपोर्ट के लिए बहुत हल्के शॉक अब्ज़ॉर्ब मिडसोल आर्टिकुलेटेड डिज़ाइन के साथ फ्लेक्सिबल सिप्ड ट्रैक्शन आउटसोल 1 इंच हील______SKECHERS Moreway ನಲ್ಲಿ ನಿಮ್ಮ ಆಯ್ಕೆಗಳನ್ನು ಸೂಪರ್ ನಮ್ಯ ಮತ್ತು ಆರಾಮದಾಯಕವಾಗಿರಿಸಿಕೊಳ್ಳಿ - ಚಾಪ್ಸನ್ ಶೂ. ಮೃದುವಾದ ನೇಯ್ದ ಮೆಶ್ ಫ್ಯಾಬ್ರಿಕ್ ಮತ್ತು ನಯವಾದ ಸಿಂಥೆಟಿಕ್ ಮೇಲ್ಭಾಗವು ಸ್ಲಿಪ್ ಆನ್ ಕ್ಯಾಶುಯಲ್ ಕಂಫರ್ಟ್ ಲೋಫರ್ ಶೈಲಿಯ ದೋಣಿ ಶೂ ಹೊಲಿಗೆ ಮತ್ತು ಓವರ್ಲೇ ಅಕ್ಸೆಂಟ್ಗಳೊಂದಿಗೆ. ಏರ್ ಕೂಲ್ಡ್ ಮೆಮೊರಿ ಫೋಮ್ ಇನ್ಸೊಲ್. ನಿರ್ಮಾಣ ಮೃದು ನಯವಾದ ನೇಯ್ದ ಜಾಲರಿ ಬಟ್ಟೆ ಕಾಲರ್ ಮತ್ತು ಹೀಲ್ ನಲ್ಲಿ ಸ್ಲಿಪ್ ಕ್ಯಾಶುಯಲ್ ಕಂಫರ್ಟ್ ಲೋಫರ್ ಮೋಕ್ ದೋಣಿ ಶೂ ವಿನ್ಯಾಸ ಹೊಲಿಗೆ ಅಕ್ಸೆಂಟ್ಸ್ ಹೊಲಿದ ಸೀಮ್ ಆಸೆಂಟ್ ಮೋಕ್ ಟೋ ಫ್ರಂಟ್ ಗಾಳಿಯಾಡುವ ಮೆಶ್ ಫ್ಯಾಬ್ರಿಕ್ ನಯವಾದ ಘನ ನೋಟದೊಂದಿಗೆ ಟೋನ್-ಆನ್-ಟೋನ್ ಸಿಂಥೆಟಿಕ್ ಓವರ್ಲೇಗಳು ಕಾಲರ್ ಮತ್ತು ಹೀಲ್ ಪ್ಯಾನಲ್ ನಯವಾದ ಸಂಸ್ಕರಿಸಿದ ಲೋಫರ್ ವಿನ್ಯಾಸವು ಸರಳ ವೆನಿಷಿಯನ್ ಮುಂಭಾಗ ಮತ್ತು ರೋಲ್ ಮಾಡಿದ ಸ್ಟಿಚ್ ಡಿಟೆಲಿಂಗ್ ಅನ್ನು ಹೊಲಿಯಲಾಗಿದೆ ಹೊಂದಾಣಿಕೆ ಸೌಕರ್ಯದೊಂದಿಗೆ ಅಳವಡಿಸಬಹುದಾದ ವಿನ್ಯಾಸ ep ಪ್ಯಾನೆಲ್ ಪ್ಯಾಡೆಡ್ ಕಾಲರ್ ಸಾಫ್ಟ್ ಫ್ಯಾಬ್ರಿಕ್ ಶೂ ಲೈನಿಂಗ್ ಏರ್ ಕೂಲ್ಡ್ ಮೆಮೊರಿ ಫೋಮ್ ಮೆತ್ತನೆಯ ಸೌಕರ್ಯ ಇನ್ಸೊಲ್ ಗೋಗಾ ಮ್ಯಾಟ್ ಆರ್ಚ್ ಕುಶನ್ ಹೆಚ್ಚುವರಿ ಬೆಂಬಲಕ್ಕಾಗಿ ತುಂಬಾ ಹಗುರವಾದ ಆಘಾತ ಹೀರಿಕೊಳ್ಳುವ ಮಿಡ್ಸೋಲ್ ಆರ್ಟಿಕ್ಯುಲೇಟೆಡ್ ವಿನ್ಯಾಸದೊಂದಿಗೆ ಹೊಂದಿಕೊಳ್ಳುವ ಸಿಪ್ಡ್ ಟ್ರಾಕ್ಷನ್ ಮೆಟ್ಟಿನ ಸೋಲ್ 1 ಇಂಚಿನ ಹೀಲ್ ನಿಮ್ಮ ಆಯ್ಕೆಗಳನ್ನು ಸೂಪರ್ ಫ್ಲೆಕ್ಸಿಬಲ್ ಮತ್ತು ಆರಾಮದಾಯಕವಾಗಿ SKECHERS ನಲ್ಲಿ ನಯವಾದ ಶೈಲಿಯೊಂದಿಗೆ ಕೂಡಲೇ - ಚಾಪ್ಸನ್ ಶೂ. ಮೃದುವಾದ ನೇಯ್ದ ಮೆಶ್ ಫ್ಯಾಬ್ರಿಕ್ ಮತ್ತು ನಯವಾದ ಸಿಂಥೆಟಿಕ್ ಮೇಲ್ಭಾಗವು ಸ್ಲಿಪ್ ಆನ್ ಕ್ಯಾಶುಯಲ್ ಕಂಫರ್ಟ್ ಲೋಫರ್ ಶೈಲಿಯ ದೋಣಿ ಶೂ ಹೊಲಿಗೆ ಮತ್ತು ಓವರ್ಲೇ ಅಕ್ಸೆಂಟ್ಗಳೊಂದಿಗೆ. ಏರ್ ಕೂಲ್ಡ್ ಮೆಮೊರಿ ಫೋಮ್ ಇನ್ಸೊಲ್. ನಿರ್ಮಾಣ ಮೃದು ನಯವಾದ ನೇಯ್ದ ಜಾಲರಿ ಬಟ್ಟೆ ಕಾಲರ್ ಮತ್ತು ಹೀಲ್ ನಲ್ಲಿ ಸ್ಲಿಪ್ ಕ್ಯಾಶುಯಲ್ ಕಂಫರ್ಟ್ ಲೋಫರ್ ಮೋಕ್ ದೋಣಿ ಶೂ ವಿನ್ಯಾಸ ಹೊಲಿಗೆ ಅಕ್ಸೆಂಟ್ಸ್ ಹೊಲಿದ ಸೀಮ್ ಆಸೆಂಟ್ ಮೋಕ್ ಟೋ ಫ್ರಂಟ್ ಗಾಳಿಯಾಡುವ ಮೆಶ್ ಫ್ಯಾಬ್ರಿಕ್ ನಯವಾದ ಘನ ನೋಟದೊಂದಿಗೆ ಟೋನ್-ಆನ್-ಟೋನ್ ಸಿಂಥೆಟಿಕ್ ಓವರ್ಲೇಗಳು ಕಾಲರ್ ಮತ್ತು ಹೀಲ್ ಪ್ಯಾನಲ್ ನಯವಾದ ಸಂಸ್ಕರಿಸಿದ ಲೋಫರ್ ವಿನ್ಯಾಸವು ಸರಳ ವೆನಿಷಿಯನ್ ಮುಂಭಾಗ ಮತ್ತು ರೋಲ್ ಮಾಡಿದ ಸ್ಟಿಚ್ ಡಿಟೆಲಿಂಗ್ ಅನ್ನು ಹೊಲಿಯಲಾಗಿದೆ ಹೊಂದಾಣಿಕೆ ಸೌಕರ್ಯದೊಂದಿಗೆ ಅಳವಡಿಸಬಹುದಾದ ವಿನ್ಯಾಸ ep ಪ್ಯಾನೆಲ್ ಪ್ಯಾಡೆಡ್ ಕಾಲರ್ ಸಾಫ್ಟ್ ಫ್ಯಾಬ್ರಿಕ್ ಶೂ ಲೈನಿಂಗ್ ಏರ್ ಕೂಲ್ಡ್ ಮೆಮೊರಿ ಫೋಮ್ ಮೆತ್ತನೆಯ ಕಂಫರ್ಟ್ ಇನ್ಸೊಲ್ ಗೋಗಾ ಮ್ಯಾಟ್ ಆರ್ಚ್ ಕುಶನ್ ಹೆಚ್ಚುವರಿ ಬೆಂಬಲಕ್ಕಾಗಿ ತುಂಬಾ ಹಗುರವಾದ ಆಘಾತ ಹೀರಿಕೊಳ್ಳುವ ಮಧ್ಯದ ಸೋಲ್ ಆರ್ಟಿಕ್ಯುಲೇಟೆಡ್ ವಿನ್ಯಾಸದೊಂದಿಗೆ ಹೊಂದಿಕೊಳ್ಳುವ ಸಿಪ್ಸ್ ಎಳೆತ ಮೆಟ್ಟಿನ ಹೊರ ಅಟ್ಟೆ 1 ಇಂಚು ಹೀಲ್')]"
      ]
     },
     "execution_count": 19,
     "metadata": {},
     "output_type": "execute_result"
    }
   ],
   "source": [
    "check_langs = [(langs[desc], descriptions[desc])\n",
    "               for desc in langs if langs[desc] != 'en']\n",
    "\n",
    "random.sample(check_langs, 5)"
   ]
  },
  {
   "cell_type": "markdown",
   "id": "0aac19d4",
   "metadata": {},
   "source": [
    "Действительно, мы имеем дело либо с описаниями на нескольких языках (в т.ч. английском), либо с английскими описаниями, которые были распознаны как-то иначе из-за присутствующих имен собственных и других редких слов (в этот случайный набор они не попали, но я проверяла все элементы).\n",
    "\n",
    "Из-за таких неоднородных текстов распознавание довольно неточное; чтобы использовать язык описания как фичу при обучении, пришлось бы вручную разметить данные (делать я этого, конечно же, не буду).\n",
    "\n",
    "В принципе, уже понятно, что получилось, но нарисуем график. Объединим редкие языки в одну категорию."
   ]
  },
  {
   "cell_type": "code",
   "execution_count": 20,
   "id": "540164d4",
   "metadata": {},
   "outputs": [],
   "source": [
    "lang_dict = {}\n",
    "other = 0\n",
    "for lg in list(lang_counter.keys()):\n",
    "    if lang_counter[lg] > 10:\n",
    "        lang_dict[lg] = lang_counter[lg]\n",
    "    else:\n",
    "        other += lang_counter[lg]\n",
    "lang_dict['other'] = other"
   ]
  },
  {
   "cell_type": "code",
   "execution_count": 21,
   "id": "5fc99b69",
   "metadata": {},
   "outputs": [
    {
     "data": {
      "image/png": "[encoded data removed]",
      "text/plain": [
       "<Figure size 432x432 with 1 Axes>"
      ]
     },
     "metadata": {},
     "output_type": "display_data"
    }
   ],
   "source": [
    "plt.figure(figsize=(6, 6))\n",
    "plt.pie(lang_dict.values(),\n",
    "        labels=lang_dict.keys(),\n",
    "        autopct=lambda p: '{:.0f}'.format(p / 100 * sum(lang_dict.values())),\n",
    "        textprops={'fontsize': 14},\n",
    "        pctdistance=0.85,\n",
    "        colors=['orange', 'cyan', 'plum'])\n",
    "plt.show()"
   ]
  },
  {
   "cell_type": "markdown",
   "id": "d426dce1",
   "metadata": {},
   "source": [
    "Напоследок посмотрим на статистику по всем числовым колонкам, вдруг заметим что-то интересное."
   ]
  },
  {
   "cell_type": "code",
   "execution_count": 22,
   "id": "d4eb601e",
   "metadata": {},
   "outputs": [
    {
     "data": {
      "text/html": [
       "<div>\n",
       "<style scoped>\n",
       "    .dataframe tbody tr th:only-of-type {\n",
       "        vertical-align: middle;\n",
       "    }\n",
       "\n",
       "    .dataframe tbody tr th {\n",
       "        vertical-align: top;\n",
       "    }\n",
       "\n",
       "    .dataframe thead th {\n",
       "        text-align: right;\n",
       "    }\n",
       "</style>\n",
       "<table border=\"1\" class=\"dataframe\">\n",
       "  <thead>\n",
       "    <tr style=\"text-align: right;\">\n",
       "      <th></th>\n",
       "      <th>price</th>\n",
       "      <th>rating</th>\n",
       "      <th>total_reviews</th>\n",
       "      <th>desc_length</th>\n",
       "    </tr>\n",
       "  </thead>\n",
       "  <tbody>\n",
       "    <tr>\n",
       "      <th>count</th>\n",
       "      <td>1015.000</td>\n",
       "      <td>1015.000</td>\n",
       "      <td>1015.000</td>\n",
       "      <td>1015.000</td>\n",
       "    </tr>\n",
       "    <tr>\n",
       "      <th>mean</th>\n",
       "      <td>1789.547</td>\n",
       "      <td>3.941</td>\n",
       "      <td>783.252</td>\n",
       "      <td>71.210</td>\n",
       "    </tr>\n",
       "    <tr>\n",
       "      <th>std</th>\n",
       "      <td>1564.919</td>\n",
       "      <td>0.426</td>\n",
       "      <td>3034.055</td>\n",
       "      <td>100.217</td>\n",
       "    </tr>\n",
       "    <tr>\n",
       "      <th>min</th>\n",
       "      <td>127.000</td>\n",
       "      <td>1.000</td>\n",
       "      <td>1.000</td>\n",
       "      <td>0.000</td>\n",
       "    </tr>\n",
       "    <tr>\n",
       "      <th>25%</th>\n",
       "      <td>569.000</td>\n",
       "      <td>3.800</td>\n",
       "      <td>27.000</td>\n",
       "      <td>32.000</td>\n",
       "    </tr>\n",
       "    <tr>\n",
       "      <th>50%</th>\n",
       "      <td>1399.000</td>\n",
       "      <td>4.000</td>\n",
       "      <td>123.000</td>\n",
       "      <td>45.000</td>\n",
       "    </tr>\n",
       "    <tr>\n",
       "      <th>75%</th>\n",
       "      <td>2403.500</td>\n",
       "      <td>4.200</td>\n",
       "      <td>455.500</td>\n",
       "      <td>84.000</td>\n",
       "    </tr>\n",
       "    <tr>\n",
       "      <th>max</th>\n",
       "      <td>7992.000</td>\n",
       "      <td>5.000</td>\n",
       "      <td>42193.000</td>\n",
       "      <td>1666.000</td>\n",
       "    </tr>\n",
       "  </tbody>\n",
       "</table>\n",
       "</div>"
      ],
      "text/plain": [
       "          price    rating  total_reviews  desc_length\n",
       "count  1015.000  1015.000       1015.000     1015.000\n",
       "mean   1789.547     3.941        783.252       71.210\n",
       "std    1564.919     0.426       3034.055      100.217\n",
       "min     127.000     1.000          1.000        0.000\n",
       "25%     569.000     3.800         27.000       32.000\n",
       "50%    1399.000     4.000        123.000       45.000\n",
       "75%    2403.500     4.200        455.500       84.000\n",
       "max    7992.000     5.000      42193.000     1666.000"
      ]
     },
     "execution_count": 22,
     "metadata": {},
     "output_type": "execute_result"
    }
   ],
   "source": [
    "df.describe().round(3)"
   ]
  },
  {
   "cell_type": "markdown",
   "id": "fb9a0d88",
   "metadata": {},
   "source": [
    "Замеченное интересное -- в колонке с длиной описаний: минимальное значение 0, значит, есть товары совсем без описания. Посмотрим, сколько таких."
   ]
  },
  {
   "cell_type": "code",
   "execution_count": 23,
   "id": "d1aa2e5b",
   "metadata": {},
   "outputs": [
    {
     "data": {
      "text/plain": [
       "1"
      ]
     },
     "execution_count": 23,
     "metadata": {},
     "output_type": "execute_result"
    }
   ],
   "source": [
    "no_desc = []\n",
    "for i, length in enumerate(desc_lengths):\n",
    "    if length == 0:\n",
    "        no_desc.append(i)\n",
    "\n",
    "len(no_desc)"
   ]
  },
  {
   "cell_type": "markdown",
   "id": "1d6a97fc",
   "metadata": {},
   "source": [
    "Всего один случай, супер! Выбросим его из датафрейма (ведь мы хотим предсказывать цену по описанию, а тут описания нет). Поскольку эта строка может пригодиться для второго задания, создадим копию датафрейма."
   ]
  },
  {
   "cell_type": "code",
   "execution_count": 24,
   "id": "c5f26901",
   "metadata": {},
   "outputs": [],
   "source": [
    "df1 = df.drop(no_desc[0])\n",
    "df1.reset_index(drop=True, inplace=True)"
   ]
  },
  {
   "cell_type": "markdown",
   "id": "5019f2db",
   "metadata": {},
   "source": [
    "#### 2. Подготовка данных (часть 2)\n",
    "Выбросить лишнее и дубли, предобработать тексты.\n",
    "\n",
    "Итак, мы нашли дубли и одну \"плохую\" строку -- ту, где не было описания, -- и все это удалили; привели числовые данные в числовой формат; добавили колонку с длиной описания. Перейдем к препроцессингу описаний.\n",
    "\n",
    "Основная проблема, как выяснилось раньше, заключается в наличии описаний на нескольких языках сразу. При этом просто выкинуть описания, которые langid определил как не английские, не получится: не все \"смешанные\" описания распознались как тексты на других языках, где-то английский перевесил. К счастью, в нашем датасете все такие языки используют не латинскую письменность. Значит, мусор можно относительно легко удалить, не выбрасывая целые строки из датафрейма.\n",
    "\n",
    "Заодно уберем пунктуацию: она не уникальна для большинства текстов и, скорее всего, бесполезна. Также приведем все к нижнему регистру (сначала я хотела его оставить, чтобы всякие названия брендов сохраняли первоначальный облик, но заметила, что в некоторых описаниях все слова написаны с большой буквы, а это может сильно испортить результат)."
   ]
  },
  {
   "cell_type": "code",
   "execution_count": 25,
   "id": "e099796f",
   "metadata": {},
   "outputs": [],
   "source": [
    "descs = df1['product_description'].tolist()"
   ]
  },
  {
   "cell_type": "code",
   "execution_count": 26,
   "id": "b456913a",
   "metadata": {},
   "outputs": [],
   "source": [
    "clean_descs = []\n",
    "\n",
    "for desc in descs:\n",
    "    desc_lower = desc.lower()\n",
    "    # уберет пунктуацию, эмодзи и часть не-латинских символов\n",
    "    desc_no_punct = re.sub(r'[^\\w\\s]', ' ', desc_lower)\n",
    "    # уберет оставшиеся не-латинские символы\n",
    "    clean_desc = regex.sub(r'[^\\p{Latin}\\s\\d]', ' ', desc_no_punct)\n",
    "    clean_descs.append(clean_desc)"
   ]
  },
  {
   "cell_type": "markdown",
   "id": "5392ab0b",
   "metadata": {},
   "source": [
    "Проверяя работу регулярки, я заметила, что в выдаче есть повторяющиеся элементы. Поскольку полные дубли мы удалили в самом начале, эти случаи -- яркие примеры лени маркетологов)) которые пишут одинаковые описания ко всем похожим товарам. Не исключено, что у таких пар обуви и цена будет одинаковой (например, если они отличаются только цветом). Но удалять такие данные не очень хочется: они могут различаться по ряду других параметров, и лучше учесть эти параметры, а не выбрасывать элементы."
   ]
  },
  {
   "cell_type": "code",
   "execution_count": 27,
   "id": "07d6d4ce",
   "metadata": {},
   "outputs": [
    {
     "data": {
      "text/plain": [
       "[('the product will be an excellent pick for you  it ensures an easy maintenance ',\n",
       "  27),\n",
       " ('experience great comfort walking in this pair of formal shoes from the house of hush puppies featuring a contemporary refined design with exceptional comfort this pair is perfect to give your quintessential dressing an upgrade ',\n",
       "  20),\n",
       " ('perfect to rev up your sporty spirit this trendy pair of sports shoes from the house of power provides excellent durability and ensures sturdy grip  designed to keep feet relaxed with a soft and comfortable fit this stylish yet functional pair ensures flexibility and freedom of movement with responsive cushioning and enhanced lightweight feel ',\n",
       "  11)]"
      ]
     },
     "execution_count": 27,
     "metadata": {},
     "output_type": "execute_result"
    }
   ],
   "source": [
    "Counter(clean_descs).most_common(3)"
   ]
  },
  {
   "cell_type": "markdown",
   "id": "b3d9b974",
   "metadata": {},
   "source": [
    "Переходим к лемматизации. Для этого я выбрала UDPipe -- он очень быстрый и довольно точный. (Параллельно удаляем стоп-слова -- они тоже будут неуникальными и не дадут полезной информации.)"
   ]
  },
  {
   "cell_type": "code",
   "execution_count": 28,
   "id": "f9371aa5",
   "metadata": {},
   "outputs": [
    {
     "data": {
      "application/vnd.jupyter.widget-view+json": {
       "model_id": "f655b3250ce14df19fefb59021fa4a37",
       "version_major": 2,
       "version_minor": 0
      },
      "text/plain": [
       "  0%|          | 0/1014 [00:00<?, ?it/s]"
      ]
     },
     "metadata": {},
     "output_type": "display_data"
    }
   ],
   "source": [
    "lemmatized_descs = []\n",
    "blacklist = stopwords.words('english')\n",
    "\n",
    "for desc in tqdm(clean_descs):\n",
    "    doc = nlp(desc)\n",
    "    lemmas = [token.lemma_ for token in doc\n",
    "              if token.lemma_ not in blacklist]\n",
    "    lemmatized_descs.append(' '.join(lemmas))"
   ]
  },
  {
   "cell_type": "code",
   "execution_count": 29,
   "id": "06f535a9",
   "metadata": {},
   "outputs": [
    {
     "data": {
      "text/html": [
       "<div>\n",
       "<style scoped>\n",
       "    .dataframe tbody tr th:only-of-type {\n",
       "        vertical-align: middle;\n",
       "    }\n",
       "\n",
       "    .dataframe tbody tr th {\n",
       "        vertical-align: top;\n",
       "    }\n",
       "\n",
       "    .dataframe thead th {\n",
       "        text-align: right;\n",
       "    }\n",
       "</style>\n",
       "<table border=\"1\" class=\"dataframe\">\n",
       "  <thead>\n",
       "    <tr style=\"text-align: right;\">\n",
       "      <th></th>\n",
       "      <th>shoe_price</th>\n",
       "      <th>shoe_rating</th>\n",
       "      <th>shoe_type</th>\n",
       "      <th>desc_lemmas</th>\n",
       "    </tr>\n",
       "  </thead>\n",
       "  <tbody>\n",
       "    <tr>\n",
       "      <th>0</th>\n",
       "      <td>279.0</td>\n",
       "      <td>2.9</td>\n",
       "      <td>Men</td>\n",
       "      <td>elevate style classy pair run shoe house clymb...</td>\n",
       "    </tr>\n",
       "    <tr>\n",
       "      <th>1</th>\n",
       "      <td>479.0</td>\n",
       "      <td>3.9</td>\n",
       "      <td>Men</td>\n",
       "      <td>product excellent pick ensure easy maintenance</td>\n",
       "    </tr>\n",
       "    <tr>\n",
       "      <th>2</th>\n",
       "      <td>430.0</td>\n",
       "      <td>3.3</td>\n",
       "      <td>Men</td>\n",
       "      <td>flaunt stylish unique red casual shoe per late...</td>\n",
       "    </tr>\n",
       "    <tr>\n",
       "      <th>3</th>\n",
       "      <td>499.0</td>\n",
       "      <td>4.2</td>\n",
       "      <td>Men</td>\n",
       "      <td>robbie jone shoe design keep mind durability w...</td>\n",
       "    </tr>\n",
       "    <tr>\n",
       "      <th>4</th>\n",
       "      <td>499.0</td>\n",
       "      <td>4.2</td>\n",
       "      <td>Men</td>\n",
       "      <td>sparx spectacular range footwear house relaxo ...</td>\n",
       "    </tr>\n",
       "    <tr>\n",
       "      <th>...</th>\n",
       "      <td>...</td>\n",
       "      <td>...</td>\n",
       "      <td>...</td>\n",
       "      <td>...</td>\n",
       "    </tr>\n",
       "    <tr>\n",
       "      <th>1009</th>\n",
       "      <td>7256.0</td>\n",
       "      <td>4.4</td>\n",
       "      <td>Women</td>\n",
       "      <td>nike react vision story surreal comfort layer ...</td>\n",
       "    </tr>\n",
       "    <tr>\n",
       "      <th>1010</th>\n",
       "      <td>5822.0</td>\n",
       "      <td>4.3</td>\n",
       "      <td>Women</td>\n",
       "      <td>benefit g limitless puma 's key style new seas...</td>\n",
       "    </tr>\n",
       "    <tr>\n",
       "      <th>1011</th>\n",
       "      <td>5362.0</td>\n",
       "      <td>4.5</td>\n",
       "      <td>Women</td>\n",
       "      <td>lead pack new balance 's echolucent sneaker sn...</td>\n",
       "    </tr>\n",
       "    <tr>\n",
       "      <th>1012</th>\n",
       "      <td>7480.0</td>\n",
       "      <td>4.5</td>\n",
       "      <td>Women</td>\n",
       "      <td>nike 5 k nike woman 's run shoe feel even look...</td>\n",
       "    </tr>\n",
       "    <tr>\n",
       "      <th>1013</th>\n",
       "      <td>5719.0</td>\n",
       "      <td>4.1</td>\n",
       "      <td>Women</td>\n",
       "      <td>gt 2000 7 achieve reassuringly firm ride featu...</td>\n",
       "    </tr>\n",
       "  </tbody>\n",
       "</table>\n",
       "<p>1014 rows × 4 columns</p>\n",
       "</div>"
      ],
      "text/plain": [
       "      shoe_price  shoe_rating shoe_type  \\\n",
       "0          279.0          2.9       Men   \n",
       "1          479.0          3.9       Men   \n",
       "2          430.0          3.3       Men   \n",
       "3          499.0          4.2       Men   \n",
       "4          499.0          4.2       Men   \n",
       "...          ...          ...       ...   \n",
       "1009      7256.0          4.4     Women   \n",
       "1010      5822.0          4.3     Women   \n",
       "1011      5362.0          4.5     Women   \n",
       "1012      7480.0          4.5     Women   \n",
       "1013      5719.0          4.1     Women   \n",
       "\n",
       "                                            desc_lemmas  \n",
       "0     elevate style classy pair run shoe house clymb...  \n",
       "1        product excellent pick ensure easy maintenance  \n",
       "2     flaunt stylish unique red casual shoe per late...  \n",
       "3     robbie jone shoe design keep mind durability w...  \n",
       "4     sparx spectacular range footwear house relaxo ...  \n",
       "...                                                 ...  \n",
       "1009  nike react vision story surreal comfort layer ...  \n",
       "1010  benefit g limitless puma 's key style new seas...  \n",
       "1011  lead pack new balance 's echolucent sneaker sn...  \n",
       "1012  nike 5 k nike woman 's run shoe feel even look...  \n",
       "1013  gt 2000 7 achieve reassuringly firm ride featu...  \n",
       "\n",
       "[1014 rows x 4 columns]"
      ]
     },
     "execution_count": 29,
     "metadata": {},
     "output_type": "execute_result"
    }
   ],
   "source": [
    "df1['desc_lemmas'] = lemmatized_descs\n",
    "df1.drop(columns=['title',\n",
    "                  'total_reviews',\n",
    "                  'reviews',\n",
    "                  'reviews_rating',\n",
    "                  'desc_length',\n",
    "                  'product_description'], inplace=True)\n",
    "df1.rename(columns={'price': 'shoe_price',\n",
    "                    'rating': 'shoe_rating'}, inplace=True)\n",
    "df1"
   ]
  },
  {
   "cell_type": "markdown",
   "id": "bd233d22",
   "metadata": {},
   "source": [
    "#### 3. Векторизация\n",
    "\n",
    "**CountVectorizer (Bag of Words)**"
   ]
  },
  {
   "cell_type": "code",
   "execution_count": 30,
   "id": "4219e6cf",
   "metadata": {},
   "outputs": [],
   "source": [
    "cv1 = CountVectorizer(max_features=1000)\n",
    "X1 = cv1.fit_transform(lemmatized_descs)\n",
    "\n",
    "count_matrix1 = X1.toarray()\n",
    "cv_feature_names1 = cv1.get_feature_names()"
   ]
  },
  {
   "cell_type": "code",
   "execution_count": 31,
   "id": "74061978",
   "metadata": {},
   "outputs": [],
   "source": [
    "count_df1 = pd.DataFrame(count_matrix1, columns=cv_feature_names1)\n",
    "count_df1 = pd.merge(df1, count_df1, left_index=True, right_index=True)\n",
    "count_df1.drop('desc_lemmas', axis=1, inplace=True)"
   ]
  },
  {
   "cell_type": "markdown",
   "id": "31a7c2d8",
   "metadata": {},
   "source": [
    "**TfIdfVectorizer**"
   ]
  },
  {
   "cell_type": "code",
   "execution_count": 32,
   "id": "eef19f2f",
   "metadata": {},
   "outputs": [],
   "source": [
    "tiv1 = TfidfVectorizer(max_features=1000)\n",
    "Y1 = tiv1.fit_transform(lemmatized_descs)\n",
    "\n",
    "tfidf_matrix1 = Y1.toarray()\n",
    "tiv_feature_names1 = tiv1.get_feature_names()"
   ]
  },
  {
   "cell_type": "code",
   "execution_count": 33,
   "id": "185922fb",
   "metadata": {},
   "outputs": [],
   "source": [
    "tfidf_df1 = pd.DataFrame(tfidf_matrix1, columns=tiv_feature_names1)\n",
    "tfidf_df1 = pd.merge(df1, tfidf_df1, left_index=True, right_index=True)\n",
    "tfidf_df1.drop('desc_lemmas', axis=1, inplace=True)"
   ]
  },
  {
   "cell_type": "markdown",
   "id": "91b35f44",
   "metadata": {},
   "source": [
    "#### 4. Гридсерч\n",
    "1. Три вида моделей на данных, векторизованных CountVectorizer:"
   ]
  },
  {
   "cell_type": "code",
   "execution_count": 34,
   "id": "7377a2c7",
   "metadata": {},
   "outputs": [],
   "source": [
    "cv_x1 = count_df1.drop(columns=['shoe_rating',\n",
    "                                'shoe_type',\n",
    "                                'shoe_price'], axis=1).values\n",
    "cv_y1 = count_df1['shoe_price'].values\n",
    "\n",
    "x_train1, x_test1, y_train1, y_test1 = train_test_split(\n",
    "    cv_x1, cv_y1, random_state=0)"
   ]
  },
  {
   "cell_type": "code",
   "execution_count": 41,
   "id": "b11564f0",
   "metadata": {},
   "outputs": [
    {
     "name": "stdout",
     "output_type": "stream",
     "text": [
      "Best score: -916.0978179870517\n",
      "Best parameters: {'fit_intercept': False, 'normalize': True, 'positive': True}\n"
     ]
    }
   ],
   "source": [
    "# Обычная линейная регрессия\n",
    "\n",
    "lin_reg = LinearRegression()\n",
    "\n",
    "linreg_params = {'fit_intercept': [True, False],\n",
    "                 'normalize': [True, False],\n",
    "                 'positive': [True, False]\n",
    "                 }\n",
    "\n",
    "grid_search = GridSearchCV(lin_reg,\n",
    "                           param_grid=linreg_params,\n",
    "                           scoring='neg_mean_absolute_error',\n",
    "                           n_jobs=-1)\n",
    "\n",
    "grid_search.fit(x_train1, y_train1)\n",
    "\n",
    "print('Best score: {}'.format(grid_search.best_score_))\n",
    "print('Best parameters: {}'.format(grid_search.best_params_))"
   ]
  },
  {
   "cell_type": "code",
   "execution_count": 36,
   "id": "8657d3e4",
   "metadata": {},
   "outputs": [
    {
     "name": "stdout",
     "output_type": "stream",
     "text": [
      "Best score: -798.1044613665867\n",
      "Best parameters: {'alpha': 1, 'fit_intercept': True, 'normalize': True, 'random_state': 0, 'solver': 'saga'}\n"
     ]
    }
   ],
   "source": [
    "# Ридж\n",
    "\n",
    "ridge_model = Ridge()\n",
    "\n",
    "ridge_params = {'alpha': [0.05, 0.1, 0.15, 0.5, 1, 2],\n",
    "                'fit_intercept': [True, False],\n",
    "                'normalize': [True, False],\n",
    "                'solver': ['auto', 'svd', 'cholesky',\n",
    "                           'lsqr', 'sparse_cg', 'saga'],\n",
    "                'random_state': [0]\n",
    "                }\n",
    "\n",
    "grid_search = GridSearchCV(ridge_model,\n",
    "                           param_grid=ridge_params,\n",
    "                           scoring='neg_mean_absolute_error',\n",
    "                           n_jobs=-1)\n",
    "\n",
    "grid_search.fit(x_train1, y_train1)\n",
    "\n",
    "print('Best score: {}'.format(grid_search.best_score_))\n",
    "print('Best parameters: {}'.format(grid_search.best_params_))"
   ]
  },
  {
   "cell_type": "code",
   "execution_count": 37,
   "id": "72693622",
   "metadata": {},
   "outputs": [
    {
     "name": "stdout",
     "output_type": "stream",
     "text": [
      "Best score: -826.5027116452948\n",
      "Best parameters: {'alpha': 1, 'fit_intercept': True, 'normalize': True, 'random_state': 0, 'selection': 'cyclic'}\n"
     ]
    }
   ],
   "source": [
    "# Лассо\n",
    "\n",
    "lasso_model = Lasso()\n",
    "\n",
    "lasso_params = {'alpha': [0.01, 0.05, 0.1, 0.15, 0.5, 1],\n",
    "                'fit_intercept': [True, False],\n",
    "                'normalize': [True, False],\n",
    "                'random_state': [0],\n",
    "                'selection': ['cyclic', 'random']}\n",
    "\n",
    "grid_search = GridSearchCV(lasso_model,\n",
    "                           param_grid=lasso_params,\n",
    "                           scoring='neg_mean_absolute_error',\n",
    "                           n_jobs=-1)\n",
    "\n",
    "grid_search.fit(x_train1, y_train1)\n",
    "\n",
    "print('Best score: {}'.format(grid_search.best_score_))\n",
    "print('Best parameters: {}'.format(grid_search.best_params_))"
   ]
  },
  {
   "cell_type": "markdown",
   "id": "8ab45d98",
   "metadata": {},
   "source": [
    "2. Те же модели, обученные на данных от TfIdfVectorizer:"
   ]
  },
  {
   "cell_type": "code",
   "execution_count": 38,
   "id": "ce31c6a0",
   "metadata": {},
   "outputs": [],
   "source": [
    "tiv_x1 = tfidf_df1.drop(columns=['shoe_rating',\n",
    "                                 'shoe_type',\n",
    "                                 'shoe_price'], axis=1).values\n",
    "tiv_y1 = tfidf_df1['shoe_price'].values\n",
    "\n",
    "x_train1, x_test1, y_train1, y_test1 = train_test_split(\n",
    "    tiv_x1, tiv_y1, random_state=0)"
   ]
  },
  {
   "cell_type": "code",
   "execution_count": 45,
   "id": "e14a1ff6",
   "metadata": {},
   "outputs": [
    {
     "name": "stdout",
     "output_type": "stream",
     "text": [
      "Best score: -916.0978179870517\n",
      "Best parameters: {'fit_intercept': False, 'normalize': True, 'positive': True}\n"
     ]
    }
   ],
   "source": [
    "# Обычная линейная регрессия\n",
    "\n",
    "lin_reg = LinearRegression()\n",
    "\n",
    "linreg_params = {'fit_intercept': [True, False],\n",
    "                 'normalize': [True, False],\n",
    "                 'positive': [True, False]\n",
    "                 }\n",
    "\n",
    "grid_search = GridSearchCV(lin_reg,\n",
    "                           param_grid=linreg_params,\n",
    "                           scoring='neg_mean_absolute_error',\n",
    "                           n_jobs=-1)\n",
    "\n",
    "grid_search.fit(x_train1, y_train1)\n",
    "\n",
    "print('Best score: {}'.format(grid_search.best_score_))\n",
    "print('Best parameters: {}'.format(grid_search.best_params_))"
   ]
  },
  {
   "cell_type": "code",
   "execution_count": 42,
   "id": "8a83058c",
   "metadata": {},
   "outputs": [
    {
     "name": "stdout",
     "output_type": "stream",
     "text": [
      "Best score: -737.6953214998861\n",
      "Best parameters: {'alpha': 0.5, 'fit_intercept': True, 'normalize': False, 'random_state': 0, 'solver': 'lsqr'}\n"
     ]
    }
   ],
   "source": [
    "# Ридж\n",
    "\n",
    "ridge_model = Ridge()\n",
    "\n",
    "ridge_params = {'alpha': [0.01, 0.05, 0.1, 0.15, 0.5, 1],\n",
    "                'fit_intercept': [True, False],\n",
    "                'normalize': [True, False],\n",
    "                'solver': ['auto', 'svd', 'cholesky',\n",
    "                           'lsqr', 'sparse_cg', 'saga'],\n",
    "                'random_state': [0]\n",
    "                }\n",
    "\n",
    "grid_search = GridSearchCV(ridge_model,\n",
    "                           param_grid=ridge_params,\n",
    "                           scoring='neg_mean_absolute_error',\n",
    "                           n_jobs=-1)\n",
    "\n",
    "grid_search.fit(x_train1, y_train1)\n",
    "\n",
    "print('Best score: {}'.format(grid_search.best_score_))\n",
    "print('Best parameters: {}'.format(grid_search.best_params_))"
   ]
  },
  {
   "cell_type": "code",
   "execution_count": 43,
   "id": "3c432c6d",
   "metadata": {},
   "outputs": [
    {
     "name": "stdout",
     "output_type": "stream",
     "text": [
      "Best score: -756.4750041400223\n",
      "Best parameters: {'alpha': 1, 'fit_intercept': True, 'normalize': False, 'random_state': 0, 'selection': 'random'}\n"
     ]
    }
   ],
   "source": [
    "# Лассо\n",
    "\n",
    "lasso_model = Lasso()\n",
    "\n",
    "lasso_params = {'alpha': [0.01, 0.05, 0.1, 0.15, 0.5, 1],\n",
    "                'fit_intercept': [True, False],\n",
    "                'normalize': [True, False],\n",
    "                'random_state': [0],\n",
    "                'selection': ['cyclic', 'random']}\n",
    "\n",
    "grid_search = GridSearchCV(lasso_model,\n",
    "                           param_grid=lasso_params,\n",
    "                           scoring='neg_mean_absolute_error',\n",
    "                           n_jobs=-1)\n",
    "\n",
    "grid_search.fit(x_train1, y_train1)\n",
    "\n",
    "print('Best score: {}'.format(grid_search.best_score_))\n",
    "print('Best parameters: {}'.format(grid_search.best_params_))"
   ]
  },
  {
   "cell_type": "markdown",
   "id": "11b4974a",
   "metadata": {},
   "source": [
    "Итак, лучшая модель -- Ridge, обученная на данных, векторизованных TfIdf. Почему так получилось? Ну, во-первых, сам алгоритм TfIdf \"умнее\" -- он учитывает не только частотность, но и \"важность\", специфичность слова.\n",
    "Что касается разницы между Ridge и Lasso, она не слишком большая, но интересно, что Лассо хуже (казалось бы, на таком количестве колонок умение занулять коэффициенты при ненужных фичах должно было повысить точность, а не понизить). Вероятно, сказалось ограничение на количество фич при векторизации (и при большем их числе было бы больше нулей -- тут-то и пригодилось бы зануление коэффициентов).\n",
    "\n",
    "#### 5. Оценка качества и анализ"
   ]
  },
  {
   "cell_type": "code",
   "execution_count": 46,
   "id": "9dd3595a",
   "metadata": {},
   "outputs": [],
   "source": [
    "best_model = Ridge(alpha=0.5, fit_intercept=True,\n",
    "                   normalize=False, random_state=0, solver='lsqr')\n",
    "best_model.fit(x_train1, y_train1)\n",
    "preds1 = best_model.predict(x_test1)"
   ]
  },
  {
   "cell_type": "code",
   "execution_count": 47,
   "id": "7aca72ac",
   "metadata": {},
   "outputs": [
    {
     "data": {
      "text/plain": [
       "765.8217853364768"
      ]
     },
     "execution_count": 47,
     "metadata": {},
     "output_type": "execute_result"
    }
   ],
   "source": [
    "mean_absolute_error(y_test1, preds1)"
   ]
  },
  {
   "cell_type": "markdown",
   "id": "09843994",
   "metadata": {},
   "source": [
    "Визуализируем результат."
   ]
  },
  {
   "cell_type": "code",
   "execution_count": 53,
   "id": "c3bb8dea",
   "metadata": {},
   "outputs": [
    {
     "data": {
      "image/png": "[encoded data removed]",
      "text/plain": [
       "<Figure size 432x288 with 1 Axes>"
      ]
     },
     "metadata": {
      "needs_background": "light"
     },
     "output_type": "display_data"
    }
   ],
   "source": [
    "_, ax = plt.subplots()\n",
    "\n",
    "ax.scatter(x=range(0, y_test1.size), y=y_test1,\n",
    "           c='blue', label='Actual', alpha=0.3)\n",
    "ax.scatter(x=range(0, preds1.size), y=preds1,\n",
    "           c='red', label='Predicted', alpha=0.3)\n",
    "\n",
    "plt.title('Actual and predicted prices')\n",
    "plt.ylabel('price')\n",
    "plt.legend()\n",
    "plt.show()"
   ]
  },
  {
   "cell_type": "markdown",
   "id": "2d84214e",
   "metadata": {},
   "source": [
    "Получилось не супер информативно (точек многовато), но в целом похоже, что более бюджетные (до 3000 рупий) модели предсказываются лучше, чем дорогие. С выбросами (>6000) наша модель вообще не справляется, что не очень-то удивительно -- на то они и выбросы.\n",
    "\n",
    "Что в принципе можно сделать, чтобы улучшить качество? Во-первых, не учитывать выбросы. Во-вторых, интересно проверить, поможет ли использование информации о том, для кого предназначена обувь (мужчин или женщин). Как мы выяснили, женская в среднем дороже (это отражает реальный феномен -- pink tax). Наконец, можно использовать названия обуви как текстовые фичи: они часто начинаются с названия бренда, а бренд напрямую связан с ценой (в идеале, конечно, научиться извлекать бренды из названий и использовать их как отдельную колонку в наших данных)."
   ]
  },
  {
   "cell_type": "markdown",
   "id": "60445009",
   "metadata": {},
   "source": [
    "### Часть 2: предсказываем оценку по отзыву\n",
    "#### 0. Подготовка датафрейма (предварительная)\n",
    "*(как в прошлый раз, будет и нормальная)*\n",
    "\n",
    "Часть данных мы уже подготовили в первом задании: привели колонки с числами в числовой формат и удалили дубли. Теперь посмотрим на отзывы и оценки: они склеены в одну строку для каждого товара. Важно понять, как мы хотим решать стоящую перед нами задачу, -- предсказывать среднюю оценку товара по оставленным на него отзывам или предсказывать оценку одного человека по его отзыву. Мне кажется более логичным второй вариант. Во-первых, взаимосвязь между отзывом и оценкой одного человека более конкретная: редко бывает, что человек ругает товар последними словами, а потом ставит ему высшую оценку. В усредненном виде, однако, эта взаимосвязь нарушается, потому что всегда есть очень довольные и очень недовольные покупатели. Еще одна проблема заключается в наших данных: на некоторые товары меньше 5 отзывов, на некоторые -- несколько тысяч. Это очень усложняет предсказание оценки товара по всему массиву отзывов.\n",
    "\n",
    "Разделим склеенные отзывы и оценки пользователей на отдельные строки. Для этого превратим строковые данные в списки и применим pd.Series.explode (кажется, она хуже df.explode() в терминах производельности, но df.explode() на двух колонках работает неправильно, хотя в совпадении длин списков я уверена -- проверяла)."
   ]
  },
  {
   "cell_type": "code",
   "execution_count": 54,
   "id": "7ed1af81",
   "metadata": {},
   "outputs": [],
   "source": [
    "reviews = df['reviews'].tolist()\n",
    "split_reviews = [one_prod.split('|| ') for one_prod in reviews]\n",
    "df['reviews'] = split_reviews\n",
    "\n",
    "user_ratings = df['reviews_rating'].tolist()\n",
    "split_ratings = [one_prod.split('|| ') for one_prod in user_ratings]\n",
    "df['reviews_rating'] = split_ratings"
   ]
  },
  {
   "cell_type": "code",
   "execution_count": 55,
   "id": "2a75ce58",
   "metadata": {},
   "outputs": [
    {
     "data": {
      "text/html": [
       "<div>\n",
       "<style scoped>\n",
       "    .dataframe tbody tr th:only-of-type {\n",
       "        vertical-align: middle;\n",
       "    }\n",
       "\n",
       "    .dataframe tbody tr th {\n",
       "        vertical-align: top;\n",
       "    }\n",
       "\n",
       "    .dataframe thead th {\n",
       "        text-align: right;\n",
       "    }\n",
       "</style>\n",
       "<table border=\"1\" class=\"dataframe\">\n",
       "  <thead>\n",
       "    <tr style=\"text-align: right;\">\n",
       "      <th></th>\n",
       "      <th>title</th>\n",
       "      <th>price</th>\n",
       "      <th>rating</th>\n",
       "      <th>total_reviews</th>\n",
       "      <th>product_description</th>\n",
       "      <th>reviews</th>\n",
       "      <th>reviews_rating</th>\n",
       "      <th>shoe_type</th>\n",
       "      <th>desc_length</th>\n",
       "    </tr>\n",
       "  </thead>\n",
       "  <tbody>\n",
       "    <tr>\n",
       "      <th>0</th>\n",
       "      <td>CLYMB Outdoor Sports Running Shoes for Mens Boy</td>\n",
       "      <td>279.0</td>\n",
       "      <td>2.9</td>\n",
       "      <td>2389</td>\n",
       "      <td>Elevate your style with this classy pair of Ru...</td>\n",
       "      <td>Not happy with product</td>\n",
       "      <td>1.0 out of 5 stars</td>\n",
       "      <td>Men</td>\n",
       "      <td>35</td>\n",
       "    </tr>\n",
       "    <tr>\n",
       "      <th>1</th>\n",
       "      <td>CLYMB Outdoor Sports Running Shoes for Mens Boy</td>\n",
       "      <td>279.0</td>\n",
       "      <td>2.9</td>\n",
       "      <td>2389</td>\n",
       "      <td>Elevate your style with this classy pair of Ru...</td>\n",
       "      <td>It's not as expected.</td>\n",
       "      <td>1.0 out of 5 stars</td>\n",
       "      <td>Men</td>\n",
       "      <td>35</td>\n",
       "    </tr>\n",
       "    <tr>\n",
       "      <th>2</th>\n",
       "      <td>CLYMB Outdoor Sports Running Shoes for Mens Boy</td>\n",
       "      <td>279.0</td>\n",
       "      <td>2.9</td>\n",
       "      <td>2389</td>\n",
       "      <td>Elevate your style with this classy pair of Ru...</td>\n",
       "      <td>AVERAGE PRODUCT</td>\n",
       "      <td>3.0 out of 5 stars</td>\n",
       "      <td>Men</td>\n",
       "      <td>35</td>\n",
       "    </tr>\n",
       "    <tr>\n",
       "      <th>3</th>\n",
       "      <td>CLYMB Outdoor Sports Running Shoes for Mens Boy</td>\n",
       "      <td>279.0</td>\n",
       "      <td>2.9</td>\n",
       "      <td>2389</td>\n",
       "      <td>Elevate your style with this classy pair of Ru...</td>\n",
       "      <td>Pic more beautiful</td>\n",
       "      <td>3.0 out of 5 stars</td>\n",
       "      <td>Men</td>\n",
       "      <td>35</td>\n",
       "    </tr>\n",
       "    <tr>\n",
       "      <th>4</th>\n",
       "      <td>CLYMB Outdoor Sports Running Shoes for Mens Boy</td>\n",
       "      <td>279.0</td>\n",
       "      <td>2.9</td>\n",
       "      <td>2389</td>\n",
       "      <td>Elevate your style with this classy pair of Ru...</td>\n",
       "      <td>Got damage product. But quality is average for...</td>\n",
       "      <td>3.0 out of 5 stars</td>\n",
       "      <td>Men</td>\n",
       "      <td>35</td>\n",
       "    </tr>\n",
       "    <tr>\n",
       "      <th>...</th>\n",
       "      <td>...</td>\n",
       "      <td>...</td>\n",
       "      <td>...</td>\n",
       "      <td>...</td>\n",
       "      <td>...</td>\n",
       "      <td>...</td>\n",
       "      <td>...</td>\n",
       "      <td>...</td>\n",
       "      <td>...</td>\n",
       "    </tr>\n",
       "    <tr>\n",
       "      <th>8203</th>\n",
       "      <td>ASICS Women Gt-2000 7 Lite-Show Running Shoes</td>\n",
       "      <td>5719.0</td>\n",
       "      <td>4.1</td>\n",
       "      <td>210</td>\n",
       "      <td>The GT-2000 7 achieves a reassuringly firm rid...</td>\n",
       "      <td>Go for it!</td>\n",
       "      <td>5.0 out of 5 stars</td>\n",
       "      <td>Women</td>\n",
       "      <td>24</td>\n",
       "    </tr>\n",
       "    <tr>\n",
       "      <th>8204</th>\n",
       "      <td>ASICS Women Gt-2000 7 Lite-Show Running Shoes</td>\n",
       "      <td>5719.0</td>\n",
       "      <td>4.1</td>\n",
       "      <td>210</td>\n",
       "      <td>The GT-2000 7 achieves a reassuringly firm rid...</td>\n",
       "      <td>Excellent product</td>\n",
       "      <td>5.0 out of 5 stars</td>\n",
       "      <td>Women</td>\n",
       "      <td>24</td>\n",
       "    </tr>\n",
       "    <tr>\n",
       "      <th>8205</th>\n",
       "      <td>ASICS Women Gt-2000 7 Lite-Show Running Shoes</td>\n",
       "      <td>5719.0</td>\n",
       "      <td>4.1</td>\n",
       "      <td>210</td>\n",
       "      <td>The GT-2000 7 achieves a reassuringly firm rid...</td>\n",
       "      <td>Nice shoe</td>\n",
       "      <td>5.0 out of 5 stars</td>\n",
       "      <td>Women</td>\n",
       "      <td>24</td>\n",
       "    </tr>\n",
       "    <tr>\n",
       "      <th>8206</th>\n",
       "      <td>ASICS Women Gt-2000 7 Lite-Show Running Shoes</td>\n",
       "      <td>5719.0</td>\n",
       "      <td>4.1</td>\n",
       "      <td>210</td>\n",
       "      <td>The GT-2000 7 achieves a reassuringly firm rid...</td>\n",
       "      <td>Nice</td>\n",
       "      <td>5.0 out of 5 stars</td>\n",
       "      <td>Women</td>\n",
       "      <td>24</td>\n",
       "    </tr>\n",
       "    <tr>\n",
       "      <th>8207</th>\n",
       "      <td>ASICS Women Gt-2000 7 Lite-Show Running Shoes</td>\n",
       "      <td>5719.0</td>\n",
       "      <td>4.1</td>\n",
       "      <td>210</td>\n",
       "      <td>The GT-2000 7 achieves a reassuringly firm rid...</td>\n",
       "      <td>Asics shoes are the best</td>\n",
       "      <td>5.0 out of 5 stars</td>\n",
       "      <td>Women</td>\n",
       "      <td>24</td>\n",
       "    </tr>\n",
       "  </tbody>\n",
       "</table>\n",
       "<p>8208 rows × 9 columns</p>\n",
       "</div>"
      ],
      "text/plain": [
       "                                                title   price  rating  \\\n",
       "0     CLYMB Outdoor Sports Running Shoes for Mens Boy   279.0     2.9   \n",
       "1     CLYMB Outdoor Sports Running Shoes for Mens Boy   279.0     2.9   \n",
       "2     CLYMB Outdoor Sports Running Shoes for Mens Boy   279.0     2.9   \n",
       "3     CLYMB Outdoor Sports Running Shoes for Mens Boy   279.0     2.9   \n",
       "4     CLYMB Outdoor Sports Running Shoes for Mens Boy   279.0     2.9   \n",
       "...                                               ...     ...     ...   \n",
       "8203    ASICS Women Gt-2000 7 Lite-Show Running Shoes  5719.0     4.1   \n",
       "8204    ASICS Women Gt-2000 7 Lite-Show Running Shoes  5719.0     4.1   \n",
       "8205    ASICS Women Gt-2000 7 Lite-Show Running Shoes  5719.0     4.1   \n",
       "8206    ASICS Women Gt-2000 7 Lite-Show Running Shoes  5719.0     4.1   \n",
       "8207    ASICS Women Gt-2000 7 Lite-Show Running Shoes  5719.0     4.1   \n",
       "\n",
       "      total_reviews                                product_description  \\\n",
       "0              2389  Elevate your style with this classy pair of Ru...   \n",
       "1              2389  Elevate your style with this classy pair of Ru...   \n",
       "2              2389  Elevate your style with this classy pair of Ru...   \n",
       "3              2389  Elevate your style with this classy pair of Ru...   \n",
       "4              2389  Elevate your style with this classy pair of Ru...   \n",
       "...             ...                                                ...   \n",
       "8203            210  The GT-2000 7 achieves a reassuringly firm rid...   \n",
       "8204            210  The GT-2000 7 achieves a reassuringly firm rid...   \n",
       "8205            210  The GT-2000 7 achieves a reassuringly firm rid...   \n",
       "8206            210  The GT-2000 7 achieves a reassuringly firm rid...   \n",
       "8207            210  The GT-2000 7 achieves a reassuringly firm rid...   \n",
       "\n",
       "                                                reviews      reviews_rating  \\\n",
       "0                                Not happy with product  1.0 out of 5 stars   \n",
       "1                                 It's not as expected.  1.0 out of 5 stars   \n",
       "2                                       AVERAGE PRODUCT  3.0 out of 5 stars   \n",
       "3                                    Pic more beautiful  3.0 out of 5 stars   \n",
       "4     Got damage product. But quality is average for...  3.0 out of 5 stars   \n",
       "...                                                 ...                 ...   \n",
       "8203                                         Go for it!  5.0 out of 5 stars   \n",
       "8204                                  Excellent product  5.0 out of 5 stars   \n",
       "8205                                          Nice shoe  5.0 out of 5 stars   \n",
       "8206                                               Nice  5.0 out of 5 stars   \n",
       "8207                           Asics shoes are the best  5.0 out of 5 stars   \n",
       "\n",
       "     shoe_type  desc_length  \n",
       "0          Men           35  \n",
       "1          Men           35  \n",
       "2          Men           35  \n",
       "3          Men           35  \n",
       "4          Men           35  \n",
       "...        ...          ...  \n",
       "8203     Women           24  \n",
       "8204     Women           24  \n",
       "8205     Women           24  \n",
       "8206     Women           24  \n",
       "8207     Women           24  \n",
       "\n",
       "[8208 rows x 9 columns]"
      ]
     },
     "execution_count": 55,
     "metadata": {},
     "output_type": "execute_result"
    }
   ],
   "source": [
    "df2 = df.apply(pd.Series.explode)\n",
    "df2.reset_index(drop=True, inplace=True)\n",
    "df2"
   ]
  },
  {
   "cell_type": "markdown",
   "id": "1db7ed31",
   "metadata": {},
   "source": [
    "Теперь можно еще раз выбросить дубли. В отличие от прошлого задания, где дублирующиеся описания были виной производителя, а не автора данных, здесь ситуация иная: отзывы могут дублироваться в результате сбоя в системе или человеческого фактора (человек два раза оставил отзыв, потому что не понял, отправился ли он в первый раз)."
   ]
  },
  {
   "cell_type": "code",
   "execution_count": 56,
   "id": "42d5eb21",
   "metadata": {},
   "outputs": [
    {
     "data": {
      "text/plain": [
       "346"
      ]
     },
     "execution_count": 56,
     "metadata": {},
     "output_type": "execute_result"
    }
   ],
   "source": [
    "len(df2[df2.duplicated()])"
   ]
  },
  {
   "cell_type": "code",
   "execution_count": 57,
   "id": "f3e61fba",
   "metadata": {},
   "outputs": [],
   "source": [
    "df2.drop_duplicates(inplace=True)\n",
    "df2.reset_index(drop=True, inplace=True)"
   ]
  },
  {
   "cell_type": "markdown",
   "id": "930fe3f9",
   "metadata": {},
   "source": [
    "Колонку \"reviews_rating\" имеет смысл превратить в числа, как мы это делали в первом задании с \"rating\"."
   ]
  },
  {
   "cell_type": "code",
   "execution_count": 63,
   "id": "696cdf82",
   "metadata": {},
   "outputs": [],
   "source": [
    "sep_ratings = [int(float(r.split()[0]))\n",
    "               for r in df2['reviews_rating'].tolist()]\n",
    "df2['reviews_rating'] = sep_ratings"
   ]
  },
  {
   "cell_type": "markdown",
   "id": "eafa5d73",
   "metadata": {},
   "source": [
    "#### 1. Анализ данных\n",
    "Перейдем к анализу. Посмотрим, сколько у нас отзывов каждого типа."
   ]
  },
  {
   "cell_type": "code",
   "execution_count": 64,
   "id": "f7d60978",
   "metadata": {},
   "outputs": [],
   "source": [
    "stars = df2['reviews_rating'].tolist()\n",
    "rating_counter = Counter(stars)"
   ]
  },
  {
   "cell_type": "code",
   "execution_count": 65,
   "id": "d7188cdb",
   "metadata": {},
   "outputs": [
    {
     "data": {
      "image/png": "[encoded data removed]",
      "text/plain": [
       "<Figure size 432x432 with 1 Axes>"
      ]
     },
     "metadata": {},
     "output_type": "display_data"
    }
   ],
   "source": [
    "plt.figure(figsize=(6, 6))\n",
    "plt.pie(rating_counter.values(),\n",
    "        labels=rating_counter.keys(),\n",
    "        autopct=lambda p: '{:.0f}'.format(\n",
    "            p / 100 * sum(rating_counter.values())),\n",
    "        textprops={'fontsize': 14},\n",
    "        pctdistance=0.85)\n",
    "plt.show()"
   ]
  },
  {
   "cell_type": "markdown",
   "id": "d6b31285",
   "metadata": {},
   "source": [
    "Больше всего очень положительных отзывов (5 звезд), много очень отрицательных (1 звезда); отзывов с рейтингом 4 примерно столько же, сколько отрицательных. Неприятно, что есть два относительно маленьких класса -- 2 и 3 звезды. (Понятно, что это задача классификации, а не регрессии, раз у нас есть 5 четких классов.)\n",
    "\n",
    "Теперь посмотрим на сами отзывы -- длину и язык."
   ]
  },
  {
   "cell_type": "code",
   "execution_count": 66,
   "id": "6c78f7b6",
   "metadata": {},
   "outputs": [],
   "source": [
    "reviews = df2['reviews'].tolist()\n",
    "\n",
    "rev_lengths = []\n",
    "for rev in reviews:\n",
    "    rev_lengths.append(len(rev.split()))\n",
    "\n",
    "df2['rev_length'] = rev_lengths"
   ]
  },
  {
   "cell_type": "code",
   "execution_count": 67,
   "id": "a75fb050",
   "metadata": {},
   "outputs": [
    {
     "data": {
      "text/plain": [
       "Text(0, 0.5, 'number of tokens')"
      ]
     },
     "execution_count": 67,
     "metadata": {},
     "output_type": "execute_result"
    },
    {
     "data": {
      "image/png": "[encoded data removed]",
      "text/plain": [
       "<Figure size 432x432 with 1 Axes>"
      ]
     },
     "metadata": {
      "needs_background": "light"
     },
     "output_type": "display_data"
    }
   ],
   "source": [
    "plt.figure(figsize=(6, 6))\n",
    "sns.boxplot(y='rev_length', data=df2, showmeans=True)\n",
    "plt.title('Review length')\n",
    "plt.ylabel('number of tokens')"
   ]
  },
  {
   "cell_type": "markdown",
   "id": "e613e598",
   "metadata": {},
   "source": [
    "Мда)) такая маленькая длина отзыва, скорее всего, окажется недостаточной для точного предсказания.\n",
    "\n",
    "Попытаем счастья -- есть ли зависимость между длиной отзыва и оценкой? Может быть, недовольные клиенты пишут полотно текста, а довольные ограничиваются парой хороших слов?"
   ]
  },
  {
   "cell_type": "code",
   "execution_count": 68,
   "id": "de6f5caf",
   "metadata": {},
   "outputs": [
    {
     "data": {
      "text/plain": [
       "Text(0, 0.5, 'rating (out of 5 stars)')"
      ]
     },
     "execution_count": 68,
     "metadata": {},
     "output_type": "execute_result"
    },
    {
     "data": {
      "image/png": "[encoded data removed]",
      "text/plain": [
       "<Figure size 576x432 with 1 Axes>"
      ]
     },
     "metadata": {
      "needs_background": "light"
     },
     "output_type": "display_data"
    }
   ],
   "source": [
    "df2.plot(kind='scatter', x='rev_length', y='reviews_rating', figsize=(8, 6))\n",
    "plt.title('Correlation between rating and review length')\n",
    "plt.xlabel('number of tokens')\n",
    "plt.ylabel('rating (out of 5 stars)')"
   ]
  },
  {
   "cell_type": "markdown",
   "id": "5ea08084",
   "metadata": {},
   "source": [
    "Не повезло, но этого следовало ожидать. Посмотрим теперь на языки отзывов."
   ]
  },
  {
   "cell_type": "code",
   "execution_count": 69,
   "id": "780d158c",
   "metadata": {},
   "outputs": [
    {
     "data": {
      "application/vnd.jupyter.widget-view+json": {
       "model_id": "4c7ea018a56740df8d1d69e2fc217981",
       "version_major": 2,
       "version_minor": 0
      },
      "text/plain": [
       "  0%|          | 0/7862 [00:00<?, ?it/s]"
      ]
     },
     "metadata": {},
     "output_type": "display_data"
    }
   ],
   "source": [
    "rev_langs = OrderedDict()\n",
    "for i, rev in enumerate(tqdm(reviews)):\n",
    "    rev_langs[i] = identifier.classify(rev)[0]"
   ]
  },
  {
   "cell_type": "code",
   "execution_count": 70,
   "id": "c5872f30",
   "metadata": {},
   "outputs": [
    {
     "data": {
      "text/plain": [
       "[('en', 6832),\n",
       " ('es', 168),\n",
       " ('fr', 125),\n",
       " ('de', 119),\n",
       " ('it', 100),\n",
       " ('pt', 69),\n",
       " ('nl', 59),\n",
       " ('ja', 46),\n",
       " ('zh', 42),\n",
       " ('da', 36),\n",
       " ('et', 25),\n",
       " ('fi', 21),\n",
       " ('ko', 17),\n",
       " ('hr', 17),\n",
       " ('sv', 15),\n",
       " ('ca', 14),\n",
       " ('ro', 12),\n",
       " ('am', 10),\n",
       " ('hi', 9),\n",
       " ('pl', 9),\n",
       " ('sl', 8),\n",
       " ('cs', 8),\n",
       " ('id', 6),\n",
       " ('la', 6),\n",
       " ('mr', 6),\n",
       " ('lt', 6),\n",
       " ('tl', 5),\n",
       " ('no', 5),\n",
       " ('ne', 5),\n",
       " ('ar', 5),\n",
       " ('ms', 4),\n",
       " ('he', 4),\n",
       " ('cy', 4),\n",
       " ('hu', 4),\n",
       " ('vi', 4),\n",
       " ('lv', 4),\n",
       " ('nb', 3),\n",
       " ('km', 3),\n",
       " ('mg', 3),\n",
       " ('sw', 3),\n",
       " ('af', 3),\n",
       " ('eu', 3),\n",
       " ('mt', 2),\n",
       " ('ml', 2),\n",
       " ('ta', 2),\n",
       " ('el', 1),\n",
       " ('bn', 1),\n",
       " ('gl', 1),\n",
       " ('sq', 1),\n",
       " ('vo', 1),\n",
       " ('fo', 1),\n",
       " ('rw', 1),\n",
       " ('dz', 1),\n",
       " ('gu', 1)]"
      ]
     },
     "execution_count": 70,
     "metadata": {},
     "output_type": "execute_result"
    }
   ],
   "source": [
    "rev_lang_counter = Counter(list(rev_langs.values()))\n",
    "rev_lang_counter.most_common()"
   ]
  },
  {
   "cell_type": "markdown",
   "id": "958b94b8",
   "metadata": {},
   "source": [
    "Ого! Разнообразие гораздо больше, чем в случае с описаниями. Впрочем, наверняка есть и мусор. Видно, что есть редкие языки, причем отчасти совпадающие с теми, что мы видели в первой части. При этом значительное большинство отзывов распределились по европейским языкам. Попробуем пока оставить как есть и вернуться к этому вопросу после препроцессинга.\n",
    "\n",
    "Посмотрим, наконец, на статистику по датафрейму."
   ]
  },
  {
   "cell_type": "code",
   "execution_count": 71,
   "id": "a1f1719f",
   "metadata": {},
   "outputs": [
    {
     "data": {
      "text/html": [
       "<div>\n",
       "<style scoped>\n",
       "    .dataframe tbody tr th:only-of-type {\n",
       "        vertical-align: middle;\n",
       "    }\n",
       "\n",
       "    .dataframe tbody tr th {\n",
       "        vertical-align: top;\n",
       "    }\n",
       "\n",
       "    .dataframe thead th {\n",
       "        text-align: right;\n",
       "    }\n",
       "</style>\n",
       "<table border=\"1\" class=\"dataframe\">\n",
       "  <thead>\n",
       "    <tr style=\"text-align: right;\">\n",
       "      <th></th>\n",
       "      <th>price</th>\n",
       "      <th>rating</th>\n",
       "      <th>total_reviews</th>\n",
       "      <th>reviews_rating</th>\n",
       "      <th>desc_length</th>\n",
       "      <th>rev_length</th>\n",
       "    </tr>\n",
       "  </thead>\n",
       "  <tbody>\n",
       "    <tr>\n",
       "      <th>count</th>\n",
       "      <td>7862.000</td>\n",
       "      <td>7862.000</td>\n",
       "      <td>7862.000</td>\n",
       "      <td>7862.000</td>\n",
       "      <td>7862.000</td>\n",
       "      <td>7862.000</td>\n",
       "    </tr>\n",
       "    <tr>\n",
       "      <th>mean</th>\n",
       "      <td>1604.955</td>\n",
       "      <td>3.946</td>\n",
       "      <td>978.818</td>\n",
       "      <td>3.669</td>\n",
       "      <td>68.340</td>\n",
       "      <td>3.762</td>\n",
       "    </tr>\n",
       "    <tr>\n",
       "      <th>std</th>\n",
       "      <td>1363.109</td>\n",
       "      <td>0.338</td>\n",
       "      <td>3354.074</td>\n",
       "      <td>1.556</td>\n",
       "      <td>88.426</td>\n",
       "      <td>2.856</td>\n",
       "    </tr>\n",
       "    <tr>\n",
       "      <th>min</th>\n",
       "      <td>127.000</td>\n",
       "      <td>1.000</td>\n",
       "      <td>1.000</td>\n",
       "      <td>1.000</td>\n",
       "      <td>0.000</td>\n",
       "      <td>1.000</td>\n",
       "    </tr>\n",
       "    <tr>\n",
       "      <th>25%</th>\n",
       "      <td>559.000</td>\n",
       "      <td>3.800</td>\n",
       "      <td>66.000</td>\n",
       "      <td>2.000</td>\n",
       "      <td>32.000</td>\n",
       "      <td>2.000</td>\n",
       "    </tr>\n",
       "    <tr>\n",
       "      <th>50%</th>\n",
       "      <td>1259.000</td>\n",
       "      <td>4.000</td>\n",
       "      <td>217.000</td>\n",
       "      <td>4.000</td>\n",
       "      <td>42.000</td>\n",
       "      <td>3.000</td>\n",
       "    </tr>\n",
       "    <tr>\n",
       "      <th>75%</th>\n",
       "      <td>2199.000</td>\n",
       "      <td>4.100</td>\n",
       "      <td>666.000</td>\n",
       "      <td>5.000</td>\n",
       "      <td>82.000</td>\n",
       "      <td>5.000</td>\n",
       "    </tr>\n",
       "    <tr>\n",
       "      <th>max</th>\n",
       "      <td>7992.000</td>\n",
       "      <td>5.000</td>\n",
       "      <td>42193.000</td>\n",
       "      <td>5.000</td>\n",
       "      <td>1666.000</td>\n",
       "      <td>21.000</td>\n",
       "    </tr>\n",
       "  </tbody>\n",
       "</table>\n",
       "</div>"
      ],
      "text/plain": [
       "          price    rating  total_reviews  reviews_rating  desc_length  \\\n",
       "count  7862.000  7862.000       7862.000        7862.000     7862.000   \n",
       "mean   1604.955     3.946        978.818           3.669       68.340   \n",
       "std    1363.109     0.338       3354.074           1.556       88.426   \n",
       "min     127.000     1.000          1.000           1.000        0.000   \n",
       "25%     559.000     3.800         66.000           2.000       32.000   \n",
       "50%    1259.000     4.000        217.000           4.000       42.000   \n",
       "75%    2199.000     4.100        666.000           5.000       82.000   \n",
       "max    7992.000     5.000      42193.000           5.000     1666.000   \n",
       "\n",
       "       rev_length  \n",
       "count    7862.000  \n",
       "mean        3.762  \n",
       "std         2.856  \n",
       "min         1.000  \n",
       "25%         2.000  \n",
       "50%         3.000  \n",
       "75%         5.000  \n",
       "max        21.000  "
      ]
     },
     "execution_count": 71,
     "metadata": {},
     "output_type": "execute_result"
    }
   ],
   "source": [
    "df2.describe().round(3)"
   ]
  },
  {
   "cell_type": "markdown",
   "id": "35473f54",
   "metadata": {},
   "source": [
    "Важно, что отзывов с нулевой длиной не бывает (иначе нужно было бы удалить эти строки, как в первой части).\n",
    "\n",
    "#### 2. Подготовка данных\n",
    "Препроцессинг в целом тот же, что и в первой части, но хочется сохранить эмодзи. Еще одно отличие в том, что нужно что-то придумывать для не-английских текстов."
   ]
  },
  {
   "cell_type": "code",
   "execution_count": 72,
   "id": "add31e35",
   "metadata": {},
   "outputs": [],
   "source": [
    "characters = [list(rev) for rev in reviews]\n",
    "\n",
    "rev_emojis = []\n",
    "for rev in characters:\n",
    "    emojis = [c for c in rev if c in UNICODE_EMOJI['en']]\n",
    "    rev_emojis.append(emojis)"
   ]
  },
  {
   "cell_type": "code",
   "execution_count": 73,
   "id": "da0b0cd8",
   "metadata": {},
   "outputs": [],
   "source": [
    "clean_revs = []\n",
    "for rev in reviews:\n",
    "    rev_lower = rev.lower()\n",
    "    # уберет пунктуацию, эмодзи и часть не-латинских символов\n",
    "    rev_no_punct = re.sub(r'[^\\w\\s]', ' ', rev_lower)\n",
    "    # уберет оставшиеся не-латинские символы\n",
    "    clean_rev = regex.sub(r'[^\\p{Latin}\\s\\d]', ' ', rev_no_punct)\n",
    "    clean_revs.append(clean_rev)"
   ]
  },
  {
   "cell_type": "code",
   "execution_count": 74,
   "id": "2a47c130",
   "metadata": {},
   "outputs": [
    {
     "data": {
      "application/vnd.jupyter.widget-view+json": {
       "model_id": "9aa169d11128486c9e6c0a7cb7d20110",
       "version_major": 2,
       "version_minor": 0
      },
      "text/plain": [
       "  0%|          | 0/7862 [00:00<?, ?it/s]"
      ]
     },
     "metadata": {},
     "output_type": "display_data"
    }
   ],
   "source": [
    "clean_rev_langs = OrderedDict()\n",
    "for i, rev in enumerate(tqdm(clean_revs)):\n",
    "    clean_rev_langs[i] = identifier.classify(rev)[0]"
   ]
  },
  {
   "cell_type": "code",
   "execution_count": 75,
   "id": "9bfe86b2",
   "metadata": {},
   "outputs": [
    {
     "data": {
      "text/plain": [
       "[('en', 6998),\n",
       " ('es', 165),\n",
       " ('fr', 125),\n",
       " ('de', 120),\n",
       " ('it', 108),\n",
       " ('nl', 48),\n",
       " ('ro', 47),\n",
       " ('da', 44),\n",
       " ('et', 31),\n",
       " ('pt', 30)]"
      ]
     },
     "execution_count": 75,
     "metadata": {},
     "output_type": "execute_result"
    }
   ],
   "source": [
    "clean_lang_counter = Counter(list(clean_rev_langs.values()))\n",
    "clean_lang_counter.most_common(10)"
   ]
  },
  {
   "cell_type": "markdown",
   "id": "72706315",
   "metadata": {},
   "source": [
    "Кажется, ситуация не слишком улучшилась. Попробуем посмотреть, какие отзывы были размечены как не-английские."
   ]
  },
  {
   "cell_type": "code",
   "execution_count": 76,
   "id": "2ae41862",
   "metadata": {},
   "outputs": [],
   "source": [
    "check = [(clean_rev_langs[rv], clean_revs[rv])\n",
    "         for rv in clean_rev_langs\n",
    "         if clean_rev_langs[rv] != 'en']"
   ]
  },
  {
   "cell_type": "code",
   "execution_count": 77,
   "id": "9854e784",
   "metadata": {},
   "outputs": [
    {
     "data": {
      "text/plain": [
       "[('de', 'worst experience'),\n",
       " ('fr', 'nice quality'),\n",
       " ('ca', 'wrong colour shoes delivered still decent quality'),\n",
       " ('es', 'good quality'),\n",
       " ('es', 'excellent model '),\n",
       " ('de', 'excellent   shoe'),\n",
       " ('es', 'cheap quality'),\n",
       " ('de', 'excellent'),\n",
       " ('es', 'honest review  '),\n",
       " ('sv', 'so hard bottom sole     ')]"
      ]
     },
     "execution_count": 77,
     "metadata": {},
     "output_type": "execute_result"
    }
   ],
   "source": [
    "random.sample(check, 10)"
   ]
  },
  {
   "cell_type": "markdown",
   "id": "2b9c9296",
   "metadata": {},
   "source": [
    "Действительно, это просто неверное определение языка (я, конечно, просмотрела куда больше 10 описаний, и действительно попадаются иностранные, но чаще с примесью английского, так что можно их не выбрасывать).\n",
    "\n",
    "Лемматизируем наши данные."
   ]
  },
  {
   "cell_type": "code",
   "execution_count": 78,
   "id": "4269642f",
   "metadata": {},
   "outputs": [
    {
     "data": {
      "application/vnd.jupyter.widget-view+json": {
       "model_id": "965e4c8a75ec456baff74a998cafe7e1",
       "version_major": 2,
       "version_minor": 0
      },
      "text/plain": [
       "  0%|          | 0/7862 [00:00<?, ?it/s]"
      ]
     },
     "metadata": {},
     "output_type": "display_data"
    }
   ],
   "source": [
    "lemmatized_revs = []\n",
    "blacklist = stopwords.words('english')\n",
    "\n",
    "for rev in tqdm(clean_revs):\n",
    "    doc = nlp(rev)\n",
    "    lemmas = [token.lemma_ for token in doc\n",
    "              if token.lemma_ not in blacklist]\n",
    "    lemmatized_revs.append(' '.join(lemmas))"
   ]
  },
  {
   "cell_type": "markdown",
   "id": "0c3e1cfa",
   "metadata": {},
   "source": [
    "Теперь добавим к нашим данным эмодзи (пока мы используем CountVectorizer и TfIdfVectorizer, нам не важно, что сбивается порядок). Заодно создадим список has_emoji, в котором укажем, есть ли в очередном сообщении смайлики (это может помочь при обучении, т.к. сами смайлики могут не пройти порог при векторизации)."
   ]
  },
  {
   "cell_type": "code",
   "execution_count": 79,
   "id": "052f800a",
   "metadata": {},
   "outputs": [],
   "source": [
    "has_emoji = []\n",
    "with_emoji = []\n",
    "for i, rev in enumerate(lemmatized_revs):\n",
    "    emojis = ' '.join(rev_emojis[i])\n",
    "    full_rev = rev + ' ' + emojis\n",
    "    with_emoji.append(full_rev)\n",
    "    if emojis:\n",
    "        has_emoji.append(1)\n",
    "    else:\n",
    "        has_emoji.append(0)"
   ]
  },
  {
   "cell_type": "code",
   "execution_count": 80,
   "id": "0c8565c8",
   "metadata": {},
   "outputs": [
    {
     "data": {
      "text/html": [
       "<div>\n",
       "<style scoped>\n",
       "    .dataframe tbody tr th:only-of-type {\n",
       "        vertical-align: middle;\n",
       "    }\n",
       "\n",
       "    .dataframe tbody tr th {\n",
       "        vertical-align: top;\n",
       "    }\n",
       "\n",
       "    .dataframe thead th {\n",
       "        text-align: right;\n",
       "    }\n",
       "</style>\n",
       "<table border=\"1\" class=\"dataframe\">\n",
       "  <thead>\n",
       "    <tr style=\"text-align: right;\">\n",
       "      <th></th>\n",
       "      <th>reviews_rating</th>\n",
       "      <th>has_emoji</th>\n",
       "      <th>rev_lemmas</th>\n",
       "    </tr>\n",
       "  </thead>\n",
       "  <tbody>\n",
       "    <tr>\n",
       "      <th>0</th>\n",
       "      <td>1</td>\n",
       "      <td>0</td>\n",
       "      <td>happy product</td>\n",
       "    </tr>\n",
       "    <tr>\n",
       "      <th>1</th>\n",
       "      <td>1</td>\n",
       "      <td>0</td>\n",
       "      <td>expect</td>\n",
       "    </tr>\n",
       "    <tr>\n",
       "      <th>2</th>\n",
       "      <td>3</td>\n",
       "      <td>0</td>\n",
       "      <td>average product</td>\n",
       "    </tr>\n",
       "    <tr>\n",
       "      <th>3</th>\n",
       "      <td>3</td>\n",
       "      <td>0</td>\n",
       "      <td>pic beautiful</td>\n",
       "    </tr>\n",
       "    <tr>\n",
       "      <th>4</th>\n",
       "      <td>3</td>\n",
       "      <td>0</td>\n",
       "      <td>get damage product quality average 300</td>\n",
       "    </tr>\n",
       "    <tr>\n",
       "      <th>...</th>\n",
       "      <td>...</td>\n",
       "      <td>...</td>\n",
       "      <td>...</td>\n",
       "    </tr>\n",
       "    <tr>\n",
       "      <th>7857</th>\n",
       "      <td>5</td>\n",
       "      <td>0</td>\n",
       "      <td>go</td>\n",
       "    </tr>\n",
       "    <tr>\n",
       "      <th>7858</th>\n",
       "      <td>5</td>\n",
       "      <td>0</td>\n",
       "      <td>excellent product</td>\n",
       "    </tr>\n",
       "    <tr>\n",
       "      <th>7859</th>\n",
       "      <td>5</td>\n",
       "      <td>0</td>\n",
       "      <td>nice shoe</td>\n",
       "    </tr>\n",
       "    <tr>\n",
       "      <th>7860</th>\n",
       "      <td>5</td>\n",
       "      <td>0</td>\n",
       "      <td>nice</td>\n",
       "    </tr>\n",
       "    <tr>\n",
       "      <th>7861</th>\n",
       "      <td>5</td>\n",
       "      <td>0</td>\n",
       "      <td>asic shoe best</td>\n",
       "    </tr>\n",
       "  </tbody>\n",
       "</table>\n",
       "<p>7862 rows × 3 columns</p>\n",
       "</div>"
      ],
      "text/plain": [
       "      reviews_rating  has_emoji                               rev_lemmas\n",
       "0                  1          0                           happy product \n",
       "1                  1          0                                  expect \n",
       "2                  3          0                         average product \n",
       "3                  3          0                           pic beautiful \n",
       "4                  3          0  get damage product quality average 300 \n",
       "...              ...        ...                                      ...\n",
       "7857               5          0                                      go \n",
       "7858               5          0                       excellent product \n",
       "7859               5          0                               nice shoe \n",
       "7860               5          0                                    nice \n",
       "7861               5          0                          asic shoe best \n",
       "\n",
       "[7862 rows x 3 columns]"
      ]
     },
     "execution_count": 80,
     "metadata": {},
     "output_type": "execute_result"
    }
   ],
   "source": [
    "df2['has_emoji'] = has_emoji\n",
    "df2['rev_lemmas'] = with_emoji\n",
    "\n",
    "df2.drop(columns=['title',\n",
    "                  'price',\n",
    "                  'rating',\n",
    "                  'total_reviews',\n",
    "                  'desc_length',\n",
    "                  'product_description',\n",
    "                  'shoe_type',\n",
    "                  'rev_length',\n",
    "                  'reviews'], inplace=True)\n",
    "\n",
    "df2"
   ]
  },
  {
   "cell_type": "markdown",
   "id": "ec30cd7c",
   "metadata": {},
   "source": [
    "#### 3. Векторизация\n",
    "\n",
    "**CountVectorizer (Bag of Words)**"
   ]
  },
  {
   "cell_type": "code",
   "execution_count": 81,
   "id": "e3d773d0",
   "metadata": {},
   "outputs": [],
   "source": [
    "rev_lemmas = df2['rev_lemmas'].tolist()"
   ]
  },
  {
   "cell_type": "code",
   "execution_count": 82,
   "id": "1acf22e6",
   "metadata": {},
   "outputs": [],
   "source": [
    "cv2 = CountVectorizer(max_features=2000)\n",
    "X2 = cv2.fit_transform(rev_lemmas)\n",
    "\n",
    "count_matrix2 = X2.toarray()\n",
    "cv_feature_names2 = cv2.get_feature_names()"
   ]
  },
  {
   "cell_type": "code",
   "execution_count": 83,
   "id": "27fba6be",
   "metadata": {},
   "outputs": [],
   "source": [
    "count_df2 = pd.DataFrame(count_matrix2, columns=cv_feature_names2)\n",
    "count_df2 = pd.merge(df2, count_df2, left_index=True, right_index=True)\n",
    "count_df2.drop('rev_lemmas', axis=1, inplace=True)"
   ]
  },
  {
   "cell_type": "markdown",
   "id": "721f48a5",
   "metadata": {},
   "source": [
    "**TfIdfVectorizer**"
   ]
  },
  {
   "cell_type": "code",
   "execution_count": 84,
   "id": "930b25ad",
   "metadata": {},
   "outputs": [],
   "source": [
    "tiv2 = TfidfVectorizer(max_features=2000)\n",
    "Y2 = tiv2.fit_transform(rev_lemmas)\n",
    "\n",
    "tfidf_matrix2 = Y2.toarray()\n",
    "tiv_feature_names2 = tiv2.get_feature_names()"
   ]
  },
  {
   "cell_type": "code",
   "execution_count": 85,
   "id": "01817b2c",
   "metadata": {},
   "outputs": [],
   "source": [
    "tfidf_df2 = pd.DataFrame(tfidf_matrix2, columns=tiv_feature_names2)\n",
    "tfidf_df2 = pd.merge(df2, tfidf_df2, left_index=True, right_index=True)\n",
    "tfidf_df2.drop('rev_lemmas', axis=1, inplace=True)"
   ]
  },
  {
   "cell_type": "markdown",
   "id": "043e62cf",
   "metadata": {},
   "source": [
    "#### 4. Гридсерч\n",
    "1. Три вида моделей на данных, векторизованных CountVectorizer:"
   ]
  },
  {
   "cell_type": "code",
   "execution_count": 87,
   "id": "ed67d072",
   "metadata": {},
   "outputs": [],
   "source": [
    "cv_x2 = count_df2.drop(columns=['reviews_rating', 'has_emoji'], axis=1).values\n",
    "cv_y2 = count_df2['reviews_rating'].values\n",
    "\n",
    "x_train2, x_test2, y_train2, y_test2 = train_test_split(\n",
    "    cv_x2, cv_y2, random_state=0)"
   ]
  },
  {
   "cell_type": "code",
   "execution_count": 88,
   "id": "475b4dc6",
   "metadata": {},
   "outputs": [],
   "source": [
    "# Мультиномиальный Байес\n",
    "\n",
    "mnb = MultinomialNB()\n",
    "\n",
    "mnb_params = {'alpha': [0.1, 0.5, 1.0, 1.5]}\n",
    "\n",
    "mnb_cv = GridSearchCV(mnb,\n",
    "                      param_grid=mnb_params,\n",
    "                      cv=5,\n",
    "                      n_jobs=-1)\n",
    "\n",
    "mnb_cv.fit(x_train2, y_train2)\n",
    "\n",
    "print('Best score: {}'.format(mnb_cv.best_score_))\n",
    "print('Best parameters: {}'.format(mnb_cv.best_params_))"
   ]
  },
  {
   "cell_type": "markdown",
   "id": "3d3f583b",
   "metadata": {},
   "source": [
    "Тут у меня слетели принты(( лечится только перезапусканием тетрадки, так что придется обойтись."
   ]
  },
  {
   "cell_type": "code",
   "execution_count": 107,
   "id": "f0b71436",
   "metadata": {},
   "outputs": [
    {
     "data": {
      "text/plain": [
       "'Best score: 0.5934543781716767'"
      ]
     },
     "execution_count": 107,
     "metadata": {},
     "output_type": "execute_result"
    }
   ],
   "source": [
    "'Best score: {}'.format(mnb_cv.best_score_)"
   ]
  },
  {
   "cell_type": "code",
   "execution_count": 108,
   "id": "b9859945",
   "metadata": {},
   "outputs": [
    {
     "data": {
      "text/plain": [
       "\"Best parameters: {'alpha': 0.5}\""
      ]
     },
     "execution_count": 108,
     "metadata": {},
     "output_type": "execute_result"
    }
   ],
   "source": [
    "'Best parameters: {}'.format(mnb_cv.best_params_)"
   ]
  },
  {
   "cell_type": "code",
   "execution_count": 89,
   "id": "58942dfc",
   "metadata": {},
   "outputs": [],
   "source": [
    "# Логистическая регрессия\n",
    "\n",
    "logreg = LogisticRegression()\n",
    "\n",
    "logreg_params = {'C': [0.1, 0.5, 1.0, 1.5],\n",
    "                 'fit_intercept': [True, False],\n",
    "                 'class_weight': ['balanced', None],\n",
    "                 'random_state': [0]}\n",
    "\n",
    "logreg_cv = GridSearchCV(logreg,\n",
    "                         param_grid=logreg_params,\n",
    "                         cv=5,\n",
    "                         n_jobs=-1)\n",
    "\n",
    "logreg_cv.fit(x_train2, y_train2)\n",
    "\n",
    "print('Best score: {}'.format(logreg_cv.best_score_))\n",
    "print('Best parameters: {}'.format(logreg_cv.best_params_))"
   ]
  },
  {
   "cell_type": "code",
   "execution_count": 91,
   "id": "d8968bf1",
   "metadata": {},
   "outputs": [
    {
     "data": {
      "text/plain": [
       "'Best score: 0.5993920443926912'"
      ]
     },
     "execution_count": 91,
     "metadata": {},
     "output_type": "execute_result"
    }
   ],
   "source": [
    "'Best score: {}'.format(logreg_cv.best_score_)"
   ]
  },
  {
   "cell_type": "code",
   "execution_count": 92,
   "id": "c75a89db",
   "metadata": {},
   "outputs": [
    {
     "data": {
      "text/plain": [
       "\"Best parameters: {'C': 1.0, 'class_weight': None, 'fit_intercept': True, 'random_state': 0}\""
      ]
     },
     "execution_count": 92,
     "metadata": {},
     "output_type": "execute_result"
    }
   ],
   "source": [
    "'Best parameters: {}'.format(logreg_cv.best_params_)"
   ]
  },
  {
   "cell_type": "code",
   "execution_count": 93,
   "id": "45b6208b",
   "metadata": {},
   "outputs": [
    {
     "data": {
      "text/plain": [
       "GridSearchCV(cv=5, estimator=LinearSVC(), n_jobs=-1,\n",
       "             param_grid={'C': [0.05, 0.1, 0.5, 1.0],\n",
       "                         'class_weight': ['balanced', None],\n",
       "                         'loss': ['hinge', 'squared_hinge'],\n",
       "                         'multi_class': ['ovr', 'crammer_singer'],\n",
       "                         'random_state': [0]})"
      ]
     },
     "execution_count": 93,
     "metadata": {},
     "output_type": "execute_result"
    }
   ],
   "source": [
    "# Linear SVC\n",
    "\n",
    "lin_svc = LinearSVC()\n",
    "\n",
    "linsvc_params = {'loss': ['hinge', 'squared_hinge'],\n",
    "                 'C': [0.05, 0.1, 0.5, 1.0],\n",
    "                 'multi_class': ['ovr', 'crammer_singer'],\n",
    "                 'class_weight': ['balanced', None],\n",
    "                 'random_state': [0]}\n",
    "\n",
    "linsvc_cv = GridSearchCV(lin_svc,\n",
    "                         param_grid=linsvc_params,\n",
    "                         cv=5,\n",
    "                         n_jobs=-1)\n",
    "\n",
    "linsvc_cv.fit(x_train2, y_train2)\n",
    "\n",
    "print('Best score: {}'.format(linsvc_cv.best_score_))\n",
    "print('Best parameters: {}'.format(linsvc_cv.best_params_))"
   ]
  },
  {
   "cell_type": "code",
   "execution_count": 94,
   "id": "36780503",
   "metadata": {},
   "outputs": [
    {
     "data": {
      "text/plain": [
       "'Best score: 0.5966771610528888'"
      ]
     },
     "execution_count": 94,
     "metadata": {},
     "output_type": "execute_result"
    }
   ],
   "source": [
    "'Best score: {}'.format(linsvc_cv.best_score_)"
   ]
  },
  {
   "cell_type": "code",
   "execution_count": 95,
   "id": "dc92e4ea",
   "metadata": {},
   "outputs": [
    {
     "data": {
      "text/plain": [
       "\"Best parameters: {'C': 0.1, 'class_weight': None, 'loss': 'squared_hinge', 'multi_class': 'ovr', 'random_state': 0}\""
      ]
     },
     "execution_count": 95,
     "metadata": {},
     "output_type": "execute_result"
    }
   ],
   "source": [
    "'Best parameters: {}'.format(linsvc_cv.best_params_)"
   ]
  },
  {
   "cell_type": "markdown",
   "id": "7cbf6fc4",
   "metadata": {},
   "source": [
    "2. То же для данных, векторизованных TfIdf Vectorizer:"
   ]
  },
  {
   "cell_type": "code",
   "execution_count": 96,
   "id": "c6dfc978",
   "metadata": {},
   "outputs": [],
   "source": [
    "tiv_x2 = tfidf_df2.drop(columns=['reviews_rating', 'has_emoji'], axis=1).values\n",
    "tiv_y2 = tfidf_df2['reviews_rating'].values\n",
    "\n",
    "x_train2, x_test2, y_train2, y_test2 = train_test_split(\n",
    "    tiv_x2, tiv_y2, random_state=0)"
   ]
  },
  {
   "cell_type": "code",
   "execution_count": 97,
   "id": "24135bcc",
   "metadata": {},
   "outputs": [],
   "source": [
    "# Мультиномиальный Байес\n",
    "\n",
    "mnb = MultinomialNB()\n",
    "\n",
    "mnb_params = {'alpha': [0.1, 0.5, 1.0, 1.5]}\n",
    "\n",
    "mnb_cv = GridSearchCV(mnb,\n",
    "                      param_grid=mnb_params,\n",
    "                      cv=5,\n",
    "                      n_jobs=-1)\n",
    "\n",
    "mnb_cv.fit(x_train2, y_train2)\n",
    "\n",
    "print('Best score: {}'.format(mnb_cv.best_score_))\n",
    "print('Best parameters: {}'.format(mnb_cv.best_params_))"
   ]
  },
  {
   "cell_type": "code",
   "execution_count": 98,
   "id": "57242124",
   "metadata": {},
   "outputs": [
    {
     "data": {
      "text/plain": [
       "'Best score: 0.5934543781716767'"
      ]
     },
     "execution_count": 98,
     "metadata": {},
     "output_type": "execute_result"
    }
   ],
   "source": [
    "'Best score: {}'.format(mnb_cv.best_score_)"
   ]
  },
  {
   "cell_type": "code",
   "execution_count": 99,
   "id": "7d9d30af",
   "metadata": {},
   "outputs": [
    {
     "data": {
      "text/plain": [
       "\"Best parameters: {'alpha': 0.5}\""
      ]
     },
     "execution_count": 99,
     "metadata": {},
     "output_type": "execute_result"
    }
   ],
   "source": [
    "'Best parameters: {}'.format(mnb_cv.best_params_)"
   ]
  },
  {
   "cell_type": "code",
   "execution_count": 100,
   "id": "fa312c58",
   "metadata": {},
   "outputs": [],
   "source": [
    "# Логистическая регрессия\n",
    "\n",
    "logreg = LogisticRegression()\n",
    "\n",
    "logreg_params = {'C': [0.5, 1.0, 1.5, 2.0],\n",
    "                 'fit_intercept': [True, False],\n",
    "                 'class_weight': ['balanced', None],\n",
    "                 'random_state': [0]}\n",
    "\n",
    "logreg_cv = GridSearchCV(logreg,\n",
    "                         param_grid=logreg_params,\n",
    "                         cv=5,\n",
    "                         n_jobs=-1)\n",
    "\n",
    "logreg_cv.fit(x_train2, y_train2)\n",
    "\n",
    "print('Best score: {}'.format(logreg_cv.best_score_))\n",
    "print('Best parameters: {}'.format(logreg_cv.best_params_))"
   ]
  },
  {
   "cell_type": "code",
   "execution_count": 101,
   "id": "44089d4c",
   "metadata": {},
   "outputs": [
    {
     "data": {
      "text/plain": [
       "'Best score: 0.5992212590388293'"
      ]
     },
     "execution_count": 101,
     "metadata": {},
     "output_type": "execute_result"
    }
   ],
   "source": [
    "'Best score: {}'.format(logreg_cv.best_score_)"
   ]
  },
  {
   "cell_type": "code",
   "execution_count": 103,
   "id": "6143d3f4",
   "metadata": {},
   "outputs": [
    {
     "data": {
      "text/plain": [
       "\"Best parameters: {'C': 2.0, 'class_weight': None, 'fit_intercept': True, 'random_state': 0}\""
      ]
     },
     "execution_count": 103,
     "metadata": {},
     "output_type": "execute_result"
    }
   ],
   "source": [
    "'Best parameters: {}'.format(logreg_cv.best_params_)"
   ]
  },
  {
   "cell_type": "code",
   "execution_count": 104,
   "id": "03712299",
   "metadata": {},
   "outputs": [],
   "source": [
    "# Linear SVC\n",
    "\n",
    "lin_svc = LinearSVC()\n",
    "\n",
    "linsvc_params = {'loss': ['hinge', 'squared_hinge'],\n",
    "                 'C': [0.05, 0.1, 0.5, 1.0],\n",
    "                 'multi_class': ['ovr', 'crammer_singer'],\n",
    "                 'class_weight': ['balanced', None],\n",
    "                 'random_state': [0]}\n",
    "\n",
    "linsvc_cv = GridSearchCV(lin_svc,\n",
    "                         param_grid=linsvc_params,\n",
    "                         cv=5,\n",
    "                         n_jobs=-1)\n",
    "\n",
    "linsvc_cv.fit(x_train2, y_train2)\n",
    "\n",
    "print('Best score: {}'.format(linsvc_cv.best_score_))\n",
    "print('Best parameters: {}'.format(linsvc_cv.best_params_))"
   ]
  },
  {
   "cell_type": "code",
   "execution_count": 105,
   "id": "0c1979be",
   "metadata": {},
   "outputs": [
    {
     "data": {
      "text/plain": [
       "'Best score: 0.5931142450511062'"
      ]
     },
     "execution_count": 105,
     "metadata": {},
     "output_type": "execute_result"
    }
   ],
   "source": [
    "'Best score: {}'.format(linsvc_cv.best_score_)"
   ]
  },
  {
   "cell_type": "code",
   "execution_count": 106,
   "id": "98d24674",
   "metadata": {},
   "outputs": [
    {
     "data": {
      "text/plain": [
       "\"Best parameters: {'C': 0.5, 'class_weight': None, 'loss': 'squared_hinge', 'multi_class': 'ovr', 'random_state': 0}\""
      ]
     },
     "execution_count": 106,
     "metadata": {},
     "output_type": "execute_result"
    }
   ],
   "source": [
    "'Best parameters: {}'.format(linsvc_cv.best_params_)"
   ]
  },
  {
   "cell_type": "markdown",
   "id": "d6e49c5c",
   "metadata": {},
   "source": [
    "Итак, лучшая модель -- логистическая регрессия. Странно, что на данных, векторизованных CountVectorizer, она сработала лучше, пусть и незначительно (0.5993920443926912 -- но у меня как-то получалось 0.603 с чем-то, сейчас не воспроизведу). **Спойлер:** ниже я обучила эту модель на обоих датасетах с подобранными параметрами и получила лучший результат с TfIdf векторайзером, так что тут влияет элемент случайности).\n",
    "\n",
    "Учитывая, с какими данными пришлось работать моделям, сложно с уверенностью сказать, почему именно логистическая регрессия оказалась более эффективной. Понятно, что мультиномиальный Байес сработал хуже -- это довольно простой алгоритм. \n",
    "\n",
    "#### 5. Оценка качества и анализ"
   ]
  },
  {
   "cell_type": "code",
   "execution_count": 116,
   "id": "17347849",
   "metadata": {},
   "outputs": [],
   "source": [
    "x_train2, x_test2, y_train2, y_test2 = train_test_split(\n",
    "    cv_x2, cv_y2, random_state=0)\n",
    "\n",
    "best_class_model = LogisticRegression(\n",
    "    C=1.0, class_weight=None, fit_intercept=True, random_state=0)\n",
    "best_class_model.fit(x_train2, y_train2)\n",
    "preds2 = best_class_model.predict(x_test2)"
   ]
  },
  {
   "cell_type": "code",
   "execution_count": null,
   "id": "b6cf3b3a",
   "metadata": {},
   "outputs": [],
   "source": [
    "acc = accuracy_score(preds2, y_test2)"
   ]
  },
  {
   "cell_type": "code",
   "execution_count": 130,
   "id": "a9cfc3f4",
   "metadata": {},
   "outputs": [
    {
     "data": {
      "text/plain": [
       "'acc=0.5738'"
      ]
     },
     "execution_count": 130,
     "metadata": {},
     "output_type": "execute_result"
    }
   ],
   "source": [
    "'acc={0:1.4f}'.format(acc)"
   ]
  },
  {
   "cell_type": "markdown",
   "id": "a158482d",
   "metadata": {},
   "source": [
    "Вот это уже неприятно. Попробуем эту же модель на данных, векторизованных TfIdf (по логике она должна работать лучше, результаты были очень близки)."
   ]
  },
  {
   "cell_type": "code",
   "execution_count": 134,
   "id": "cd96733f",
   "metadata": {},
   "outputs": [],
   "source": [
    "x_train3, x_test3, y_train3, y_test3 = train_test_split(\n",
    "    tiv_x2, tiv_y2, random_state=0)\n",
    "\n",
    "tiv_class_model = LogisticRegression(\n",
    "    C=1.0, class_weight=None, fit_intercept=True, random_state=0)\n",
    "tiv_class_model.fit(x_train3, y_train3)\n",
    "preds3 = best_class_model.predict(x_test3)"
   ]
  },
  {
   "cell_type": "code",
   "execution_count": 135,
   "id": "35b096d8",
   "metadata": {},
   "outputs": [],
   "source": [
    "acc = accuracy_score(preds3, y_test3)"
   ]
  },
  {
   "cell_type": "code",
   "execution_count": 137,
   "id": "3df9c62a",
   "metadata": {},
   "outputs": [
    {
     "data": {
      "text/plain": [
       "0.5778229908443541"
      ]
     },
     "execution_count": 137,
     "metadata": {},
     "output_type": "execute_result"
    }
   ],
   "source": [
    "acc"
   ]
  },
  {
   "cell_type": "markdown",
   "id": "5e7284d9",
   "metadata": {},
   "source": [
    "Разница совсем небольшая, на этот раз в пользу TfIdfVectorizer. Рассчитаем остальные метрики."
   ]
  },
  {
   "cell_type": "code",
   "execution_count": 138,
   "id": "8226c9e7",
   "metadata": {},
   "outputs": [],
   "source": [
    "acc = accuracy_score(preds3, y_test3)\n",
    "micro_f1 = f1_score(preds3, y_test3, average='micro')\n",
    "micro_p = precision_score(preds3, y_test3, average='micro')\n",
    "micro_r = recall_score(preds3, y_test3, average='micro')\n",
    "macro_f1 = f1_score(preds3, y_test3, average='macro')\n",
    "macro_p = precision_score(preds3, y_test3, average='macro')\n",
    "macro_r = recall_score(preds3, y_test3, average='macro')"
   ]
  },
  {
   "cell_type": "code",
   "execution_count": 139,
   "id": "da49e239",
   "metadata": {},
   "outputs": [
    {
     "data": {
      "text/plain": [
       "'micro F1=0.5778, micro P=0.5778, micro R=0.5778'"
      ]
     },
     "execution_count": 139,
     "metadata": {},
     "output_type": "execute_result"
    }
   ],
   "source": [
    "'micro F1={0:1.4f}, micro P={1:1.4f}, micro R={2:1.4f}'.format(\n",
    "    micro_f1, micro_p, micro_r)"
   ]
  },
  {
   "cell_type": "code",
   "execution_count": 140,
   "id": "d940601e",
   "metadata": {},
   "outputs": [
    {
     "data": {
      "text/plain": [
       "'macro F1=0.3342, macro P=0.3569, macro R=0.4313'"
      ]
     },
     "execution_count": 140,
     "metadata": {},
     "output_type": "execute_result"
    }
   ],
   "source": [
    "'macro F1={0:1.4f}, macro P={1:1.4f}, macro R={2:1.4f}'.format(\n",
    "    macro_f1, macro_p, macro_r)"
   ]
  },
  {
   "cell_type": "code",
   "execution_count": 143,
   "id": "bc0a2506",
   "metadata": {},
   "outputs": [
    {
     "data": {
      "text/plain": [
       "0.091108890847717"
      ]
     },
     "execution_count": 143,
     "metadata": {},
     "output_type": "execute_result"
    }
   ],
   "source": [
    "r2_score(preds3, y_test3)"
   ]
  },
  {
   "cell_type": "markdown",
   "id": "f1c5612c",
   "metadata": {},
   "source": [
    "Построим еще матрицу ошибок."
   ]
  },
  {
   "cell_type": "code",
   "execution_count": 144,
   "id": "7305ea82",
   "metadata": {},
   "outputs": [
    {
     "data": {
      "text/plain": [
       "<AxesSubplot:>"
      ]
     },
     "execution_count": 144,
     "metadata": {},
     "output_type": "execute_result"
    },
    {
     "data": {
      "image/png": "[encoded data removed]",
      "text/plain": [
       "<Figure size 432x288 with 1 Axes>"
      ]
     },
     "metadata": {
      "needs_background": "light"
     },
     "output_type": "display_data"
    }
   ],
   "source": [
    "sns.heatmap(data=confusion_matrix(preds3, y_test3),\n",
    "            annot=True, fmt='d', cbar=False,\n",
    "            xticklabels=[1, 2, 3, 4, 5], yticklabels=[1, 2, 3, 4, 5])"
   ]
  },
  {
   "cell_type": "markdown",
   "id": "76399eef",
   "metadata": {},
   "source": [
    "Тут все довольно логично: чем крупнее класс, тем больше его элементов распознались как правильные (это особенно заметно на классе 5. Кроме того, видно, что соседние значения иногда путаются (например, отзывы с 5 звездами получают 4 звезды и т.д.). Ну и, естественно, по такой матрице понятно, что у классов ощутимый дисбаланс и все плохо (маленькие классы пресказываются хуже).\n",
    "\n",
    "Про улучшения: во-первых, должно помочь соблюдение баланса классов (у нас очень много отзывов на 5 звезд и совсем мало на 2 и 3 звезды). Для этого можно выкинуть часть самого большого класса (но в нашем случае это плохо, датасет и так небольшой) или дублировать примеры самых маленьких классов (а лучше и то, и другое). Кроме того, можно попробовать учесть колонку \"has_emoji\" (сами эмоджи есть в текстах, но при векторизации легко могли отсеяться из-за ограничения на кол-во фичей). Мое предположение -- смайлики скорее есть в очень хороших и очень плохих отзывах.\n",
    "\n",
    "Помимо всего сказанного, логистическая регрессия воспринимает все фичи как независимые, что вряд ли соответствует действительности, когда речь идет о работе с текстом. Так, какие-то слова имеют тенденцию чаще появляться вместе, т.е. появление одного увеличивает вероятность появления второго. Чтобы учесть такие моменты, имеет смысл при векторизации смотреть также на би- и триграммы."
   ]
  }
 ],
 "metadata": {
  "kernelspec": {
   "display_name": "Python 3",
   "language": "python",
   "name": "python3"
  },
  "language_info": {
   "codemirror_mode": {
    "name": "ipython",
    "version": 3
   },
   "file_extension": ".py",
   "mimetype": "text/x-python",
   "name": "python",
   "nbconvert_exporter": "python",
   "pygments_lexer": "ipython3",
   "version": "3.8.8"
  }
 },
 "nbformat": 4,
 "nbformat_minor": 5
}
